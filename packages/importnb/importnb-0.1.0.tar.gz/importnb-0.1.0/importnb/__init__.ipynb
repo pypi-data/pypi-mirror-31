{
 "cells": [
  {
   "cell_type": "markdown",
   "metadata": {},
   "source": [
    "# The [Import Loader](https://docs.python.org/3/reference/import.html#loaders)"
   ]
  },
  {
   "cell_type": "code",
   "execution_count": 1,
   "metadata": {},
   "outputs": [],
   "source": [
    "    try:\n",
    "        from .compiler import Compile, AST\n",
    "    except ModuleNotFoundError:\n",
    "        from compiler import Compile, AST\n",
    "    import inspect, sys\n",
    "    from importlib.machinery import SourceFileLoader\n",
    "    from importlib._bootstrap_external import FileFinder\n",
    "    from importlib import reload\n",
    "    from traceback import print_exc\n",
    "    "
   ]
  },
  {
   "cell_type": "code",
   "execution_count": 2,
   "metadata": {},
   "outputs": [],
   "source": [
    "    def update_path_hooks(loader: SourceFileLoader, extensions: tuple=None, lazy=False):\n",
    "        \"\"\"Update the FileFinder loader in sys.path_hooks to accomodate a {loader} with the {extensions}\"\"\"\n",
    "        from importlib.util import LazyLoader\n",
    "        for id, hook in enumerate(sys.path_hooks):\n",
    "            try:\n",
    "                closure = inspect.getclosurevars(hook).nonlocals\n",
    "            except TypeError: continue\n",
    "            if issubclass(closure['cls'], FileFinder):\n",
    "                sys.path_hooks.pop(id)\n",
    "                sys.path_hooks.insert(id, FileFinder.path_hook(*(\n",
    "                    ((lazy and LazyLoader.factory(loader) or loader, extensions),) \n",
    "                    if (loader and extensions) \n",
    "                    else tuple()\n",
    "                ) + tuple(\n",
    "                    (cls, ext) \n",
    "                    for cls, ext in closure['loader_details'] \n",
    "                    if not issubclass(cls, loader) # Need to add logic for lazy loaders before they may be introduced.\n",
    "                )))\n",
    "        sys.path_importer_cache.clear()"
   ]
  },
  {
   "cell_type": "code",
   "execution_count": 3,
   "metadata": {},
   "outputs": [],
   "source": [
    "    class ImportContextMixin:\n",
    "        def __enter__(self):  update_path_hooks(type(self), self.EXTENSION_SUFFIXES)\n",
    "        def __exit__(self, exception_type=None, exception_value=None, traceback=None): update_path_hooks(type(self))"
   ]
  },
  {
   "cell_type": "code",
   "execution_count": 4,
   "metadata": {},
   "outputs": [],
   "source": [
    "    class Notebook(SourceFileLoader, ImportContextMixin):\n",
    "        \"\"\"A SourceFileLoader for notebooks that provides line number debugginer in the JSON source.\"\"\"\n",
    "        EXTENSION_SUFFIXES = '.ipynb',\n",
    "        \n",
    "        def __init__(self, fullname=None, path=None): super().__init__(fullname, path)\n",
    "        \n",
    "        def exec_module(Loader, module):\n",
    "            from IPython.utils.capture import capture_output    \n",
    "            with capture_output(stdout=False, stderr=False) as output: \n",
    "                try: super().exec_module(module)\n",
    "                except: ...\n",
    "                finally: module.__output__ = output\n",
    "            return module\n",
    "\n",
    "        def source_to_code(Notebook, data, path):\n",
    "            with __import__('io').BytesIO(data) as stream:\n",
    "                return Compile().from_file(stream, filename=Notebook.path, name=Notebook.name)"
   ]
  },
  {
   "cell_type": "code",
   "execution_count": 5,
   "metadata": {},
   "outputs": [],
   "source": [
    "    class Partial(Notebook):\n",
    "        def exec_module(loader, module):\n",
    "            try: super().exec_module(module)\n",
    "            except BaseException as exception:\n",
    "                try: raise ImportWarning(\"\"\"{name} from {file} failed to load completely.\"\"\".format(\n",
    "                    name=module.__name__, file=module.__file__\n",
    "                ))\n",
    "                except ImportWarning as error:\n",
    "                    print_exc()\n",
    "                    module.__exception__ = exception\n",
    "            return module"
   ]
  },
  {
   "cell_type": "markdown",
   "metadata": {},
   "source": [
    "# IPython Extensions"
   ]
  },
  {
   "cell_type": "code",
   "execution_count": 6,
   "metadata": {},
   "outputs": [],
   "source": [
    "    def load_ipython_extension(ip=None): Notebook().__enter__()\n",
    "    def unload_ipython_extension(ip=None): Notebook().__exit__()"
   ]
  },
  {
   "cell_type": "code",
   "execution_count": 7,
   "metadata": {},
   "outputs": [],
   "source": [
    "    class Test(__import__('unittest').TestCase): \n",
    "        def setUp(Test):\n",
    "            from nbformat import write, v4\n",
    "            load_ipython_extension()\n",
    "            with open('test_loader.ipynb', 'w') as file:\n",
    "                write(v4.new_notebook(cells=[\n",
    "                    v4.new_code_cell(\"\"\"__import__(\"time\").sleep(1);test = 42\"\"\")\n",
    "                ]), file)\n",
    "                \n",
    "        def runTest(Test):\n",
    "            import test_loader\n",
    "            assert test_loader.__file__.endswith('.ipynb')\n",
    "            assert test_loader.test is 42\n",
    "            assert isinstance(test_loader, __import__('types').ModuleType)\n",
    "            \n",
    "        def tearDown(Test):\n",
    "#             %rm test_loader.ipynb\n",
    "            unload_ipython_extension()"
   ]
  },
  {
   "cell_type": "markdown",
   "metadata": {},
   "source": [
    "# Developer"
   ]
  },
  {
   "cell_type": "code",
   "execution_count": 8,
   "metadata": {
    "scrolled": false
   },
   "outputs": [
    {
     "name": "stdout",
     "output_type": "stream",
     "text": [
      "[NbConvertApp] Converting notebook __init__.ipynb to script\n",
      "[NbConvertApp] Writing 4053 bytes to __init__.py\n"
     ]
    }
   ],
   "source": [
    "    if __name__ ==  '__main__':\n",
    "#         __import__('doctest').testmod(verbose=2)\n",
    "#         __import__('unittest').TextTestRunner().run(Test())\n",
    "        !jupyter nbconvert --to script --TemplateExporter.exclude_input_prompt=True __init__.ipynb\n",
    "        with Notebook():\n",
    "            import test_failure"
   ]
  }
 ],
 "metadata": {
  "kernelspec": {
   "display_name": "p6",
   "language": "python",
   "name": "other-env"
  },
  "language_info": {
   "codemirror_mode": {
    "name": "ipython",
    "version": 3
   },
   "file_extension": ".py",
   "mimetype": "text/x-python",
   "name": "python",
   "nbconvert_exporter": "python",
   "pygments_lexer": "ipython3",
   "version": "3.6.3"
  },
  "toc": {
   "colors": {
    "hover_highlight": "#DAA520",
    "running_highlight": "#FF0000",
    "selected_highlight": "#FFD700"
   },
   "moveMenuLeft": true,
   "nav_menu": {
    "height": "29px",
    "width": "252px"
   },
   "navigate_menu": true,
   "number_sections": true,
   "sideBar": true,
   "threshold": 4,
   "toc_cell": false,
   "toc_section_display": "block",
   "toc_window_display": false,
   "widenNotebook": false
  },
  "varInspector": {
   "cols": {
    "lenName": 16,
    "lenType": 16,
    "lenVar": 40
   },
   "kernels_config": {
    "python": {
     "delete_cmd_postfix": "",
     "delete_cmd_prefix": "del ",
     "library": "var_list.py",
     "varRefreshCmd": "print(var_dic_list())"
    },
    "r": {
     "delete_cmd_postfix": ") ",
     "delete_cmd_prefix": "rm(",
     "library": "var_list.r",
     "varRefreshCmd": "cat(var_dic_list()) "
    }
   },
   "types_to_exclude": [
    "module",
    "function",
    "builtin_function_or_method",
    "instance",
    "_Feature"
   ],
   "window_display": false
  }
 },
 "nbformat": 4,
 "nbformat_minor": 2
}
