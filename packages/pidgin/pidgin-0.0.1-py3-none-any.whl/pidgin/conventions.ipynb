{
 "cells": [
  {
   "cell_type": "markdown",
   "metadata": {},
   "source": [
    "Conventions provide quick access to useful tools using syntax."
   ]
  },
  {
   "cell_type": "code",
   "execution_count": 4,
   "metadata": {},
   "outputs": [],
   "source": [
    "    def yaml(str):\n",
    "        if str.lstrip().startswith('---'):\n",
    "            return\"\"\"locals().update(dict(\n",
    "                sum((\n",
    "                    list(dict.items()) for dict in __import__('yaml').safe_load_all('''{}''')\n",
    "                    ), [])))\"\"\".format(str.lstrip())\n",
    "\n",
    "    def graphviz(str):\n",
    "        if str.strip().startswith('graph') or str.strip().startswith('digraph'):\n",
    "            return\"\"\"__import__('IPython').display.display(\n",
    "                __import__('graphviz').Source('''{}''', format=\"png\"))\"\"\".format(str)\n",
    "\n",
    "    def iframe(str):\n",
    "        if str.strip().startswith('http'):\n",
    "            return\"\"\"__import__('IPython').display.display(\n",
    "            __import__('IPython').display.IFrame(\n",
    "            \\'\\'\\'{}\\'\\'\\', 800, 600))\"\"\".format(str.replace(\"en.wikipedia.org\", \"en.m.wikipedia.org\").strip())\n",
    "\n",
    "    def doctest(str):\n",
    "        if str.strip().startswith('>>>'):\n",
    "            return\"\"\"print(__import__('doctest').DocTestRunner().run(__import__('doctest').DocTest(\n",
    "            [example for example in __import__('doctest').DocTestParser().parse(\\'\\'\\'{0}\\'\\'\\') if not isinstance(example, str)],\n",
    "            __import__(__name__).__dict__, '<mumble>', None, None, \\'\\'\\'{0}\\'\\'\\'\n",
    "        )))\"\"\"\n",
    "    choices = yaml, graphviz, iframe, doctest"
   ]
  },
  {
   "cell_type": "code",
   "execution_count": 5,
   "metadata": {},
   "outputs": [],
   "source": [
    "    from IPython.core.interactiveshell import InteractiveShell"
   ]
  },
  {
   "cell_type": "code",
   "execution_count": 6,
   "metadata": {},
   "outputs": [],
   "source": [
    "    from IPython import get_ipython\n",
    "    from nbconvert.exporters.templateexporter import TemplateExporter\n",
    "    from IPython.core.inputtransformer import InputTransformer\n",
    "    from jinja2 import Environment\n",
    "    from collections import UserList\n",
    "    from dataclasses import dataclass, field\n",
    "\n",
    "    @dataclass\n",
    "    class Conventions(InputTransformer, UserList):\n",
    "        data: list = field(default_factory=list)\n",
    "        def push(self, line): self.data.append(line)\n",
    "        \n",
    "        def reset(self, *, str=\"\"\"\"\"\"):\n",
    "            global choices\n",
    "            from inspect import getfullargspec\n",
    "            str, self.data = '\\n'.join(self.data), []\n",
    "            for callable in choices:\n",
    "                result = callable(str)\n",
    "                if result is not None:\n",
    "                    str = result\n",
    "                    break\n",
    "            return str\n",
    "\n",
    "        def load(self, *args): \n",
    "            ip=get_ipython()                 \n",
    "            self.unload()\n",
    "            ip.input_transformer_manager.python_line_transforms +=  [self]\n",
    "            \n",
    "        def unload(self, *args): \n",
    "            ip = (get_ipython() or InteractiveShell())\n",
    "            ip.input_transformer_manager.python_line_transforms = [\n",
    "                object for object in ip.input_transformer_manager.python_line_transforms\n",
    "                if not isinstance(object, Conventions)\n",
    "            ]\n"
   ]
  },
  {
   "cell_type": "code",
   "execution_count": 7,
   "metadata": {},
   "outputs": [],
   "source": [
    "    def load_ipython_extension(ip=None): Conventions().load()\n",
    "    \n",
    "    def unload_ipython_extension(ip=None): Conventions().unload()"
   ]
  },
  {
   "cell_type": "code",
   "execution_count": 8,
   "metadata": {},
   "outputs": [],
   "source": [
    "    if __name__ == '__main__': load_ipython_extension()"
   ]
  },
  {
   "cell_type": "code",
   "execution_count": null,
   "metadata": {},
   "outputs": [],
   "source": []
  }
 ],
 "metadata": {
  "kernelspec": {
   "display_name": "p6",
   "language": "python",
   "name": "other-env"
  },
  "language_info": {
   "codemirror_mode": {
    "name": "ipython",
    "version": 3
   },
   "file_extension": ".py",
   "mimetype": "text/x-python",
   "name": "python",
   "nbconvert_exporter": "python",
   "pygments_lexer": "ipython3",
   "version": "3.6.3"
  }
 },
 "nbformat": 4,
 "nbformat_minor": 2
}
