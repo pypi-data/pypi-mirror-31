{
 "cells": [
  {
   "cell_type": "markdown",
   "metadata": {},
   "source": [
    "# by *convention* notebooks should be for humans.\n",
    "\n",
    "__pidgin.markdown__ allows an author to write code in Markdown that evaluates __code_block__s a normal."
   ]
  },
  {
   "cell_type": "code",
   "execution_count": 1,
   "metadata": {},
   "outputs": [],
   "source": [
    "    from collections import UserList\n",
    "    from IPython import get_ipython\n",
    "    from IPython.core.interactiveshell import InteractiveShell\n",
    "    import CommonMark\n",
    "    from IPython.core.inputsplitter import IPythonInputSplitter\n",
    "    from IPython.core.inputtransformer import InputTransformer\n",
    "    from textwrap import indent, dedent"
   ]
  },
  {
   "cell_type": "markdown",
   "metadata": {},
   "source": [
    "## Markdown to code\n",
    "\n",
    "Markdown is converted to code by persisting all code_blocks and replacing all non-code lines with blank lines.  The blank line replacement assures the right line numbering."
   ]
  },
  {
   "cell_type": "code",
   "execution_count": 2,
   "metadata": {},
   "outputs": [],
   "source": [
    "    def codify(source, parser=CommonMark.Parser, str=\"\"\"\"\"\") -> str:\n",
    "        \"\"\"Convert markdown to code with the correct line numbers and positions in a string.\n",
    "\n",
    "        This function replaces non-code_block nodes with blanklines.\"\"\"\n",
    "        for node, _ in parser().parse(source).walker():\n",
    "            if node.t == 'code_block':\n",
    "                line, col = node.sourcepos[0]\n",
    "                end = line + len(node.literal.splitlines())\n",
    "                lines = node.literal.splitlines()\n",
    "                while len(str.splitlines()) < (line-1): str += '\\n'\n",
    "                str += indent(node.literal, ' '*col)\n",
    "        return str"
   ]
  },
  {
   "cell_type": "markdown",
   "metadata": {},
   "source": [
    "## Python line transformer"
   ]
  },
  {
   "cell_type": "code",
   "execution_count": 8,
   "metadata": {},
   "outputs": [],
   "source": [
    "    def display(source)->'display':\n",
    "        \"\"\"Support front matter syntax in cells.\"\"\"\n",
    "        metadata, markdown = \"\"\"\"\"\", source\n",
    "        if source.lstrip().startswith('---'):\n",
    "            if '\\n---' in source.lstrip():\n",
    "                _, metadata, markdown = source.split('---', 2)\n",
    "            \n",
    "        from IPython.display import Markdown, display\n",
    "        from yaml import safe_load\n",
    "        metadata = safe_load(metadata)\n",
    "        if isinstance(metadata, str) ^ (not metadata): markdown, metadata = source, {}\n",
    "        Markdown.__repr__ = Markdown._repr_markdown_\n",
    "        display(Markdown(markdown), metadata=metadata)"
   ]
  },
  {
   "cell_type": "code",
   "execution_count": 4,
   "metadata": {},
   "outputs": [],
   "source": [
    "    class Markdown(UserList, InputTransformer):\n",
    "        def push(self, object): \n",
    "            return self.append(object)\n",
    "       \n",
    "        def load(self):\n",
    "            ip = get_ipython() or InteractiveShell()\n",
    "            if ip.input_transformer_manager.physical_line_transforms:\n",
    "                self.input_transformer_manager = ip.input_transformer_manager\n",
    "                ip.input_transformer_manager = IPythonInputSplitter(\n",
    "                    logical_line_transforms=[], physical_line_transforms=[], python_line_transforms=[])\n",
    "            else:\n",
    "                self.input_transformer_manager = IPythonInputSplitter()\n",
    "            ip.input_transformer_manager.python_line_transforms = [\n",
    "                object for object in ip.input_transformer_manager.python_line_transforms\n",
    "                if not isinstance(object, Markdown)\n",
    "            ] + [self]\n",
    "            return self\n",
    "\n",
    "        def reset(self):\n",
    "            str, self.data = '\\n'.join(self), []\n",
    "            if str and str.splitlines()[0].strip():\n",
    "                display(str)\n",
    "            return dedent(self.input_transformer_manager.transform_cell(codify(str)))"
   ]
  },
  {
   "cell_type": "markdown",
   "metadata": {},
   "source": [
    "## Preprocessor"
   ]
  },
  {
   "cell_type": "code",
   "execution_count": 5,
   "metadata": {},
   "outputs": [],
   "source": [
    "    from nbconvert.preprocessors import Preprocessor\n",
    "    from traitlets import Int\n",
    "    class Normalize(Preprocessor):\n",
    "        characters = Int(default_value=100)\n",
    "        def preprocess_cell(Normalize, cell, resources={}, index=0):\n",
    "            import black\n",
    "            if cell['cell_type'] == 'code':\n",
    "                cell.source = black.format_str(Markdown(cell['source']).reset(), Normalize.characters)\n",
    "            return cell, resources"
   ]
  },
  {
   "cell_type": "markdown",
   "metadata": {},
   "source": [
    "## IPython extensions"
   ]
  },
  {
   "cell_type": "markdown",
   "metadata": {},
   "source": [
    "    %unload_ext pidgin.markdown"
   ]
  },
  {
   "cell_type": "code",
   "execution_count": 6,
   "metadata": {},
   "outputs": [],
   "source": [
    "    def unload_ipython_extension(ip=get_ipython()):\n",
    "        for object in ip.input_transformer_manager.python_line_transforms:\n",
    "            if isinstance(object, Markdown):\n",
    "                ip.input_transformer_manager = object.input_transformer_manager\n",
    "                break\n",
    "    "
   ]
  },
  {
   "cell_type": "markdown",
   "metadata": {},
   "source": [
    "    %reload_ext pidgin.markdown"
   ]
  },
  {
   "cell_type": "code",
   "execution_count": 7,
   "metadata": {},
   "outputs": [],
   "source": [
    "    def load_ipython_extension(ip=None): Markdown().load()"
   ]
  },
  {
   "cell_type": "markdown",
   "metadata": {},
   "source": [
    "## Testing"
   ]
  },
  {
   "cell_type": "code",
   "execution_count": 8,
   "metadata": {},
   "outputs": [],
   "source": [
    "    class Test(__import__('unittest').TestCase): \n",
    "        def setUp(Test):\n",
    "            %reload_ext pidgin\n",
    "            load_ipython_extension()\n",
    "            from nbformat import write, v4\n",
    "            with open('test_markdown.ipynb', 'w') as file:\n",
    "                write(v4.new_notebook(cells=[v4.new_code_cell(\"\"\"Some paragraph\\n\\n    a=42\"\"\")]), file)\n",
    "                \n",
    "        def runTest(Test):\n",
    "            global test_markdown\n",
    "            import test_markdown\n",
    "            assert test_markdown.__file__.endswith('.ipynb')\n",
    "            assert test_markdown.a is 42\n",
    "            \n",
    "        def tearDown(Test):\n",
    "            %unload_ext pidgin\n",
    "            %rm test_markdown.ipynb\n",
    "            unload_ipython_extension()"
   ]
  },
  {
   "cell_type": "markdown",
   "metadata": {},
   "source": [
    "Make it possible to import markdown files."
   ]
  },
  {
   "cell_type": "code",
   "execution_count": 9,
   "metadata": {},
   "outputs": [
    {
     "name": "stderr",
     "output_type": "stream",
     "text": [
      ".\n",
      "----------------------------------------------------------------------\n",
      "Ran 1 test in 0.165s\n",
      "\n",
      "OK\n"
     ]
    }
   ],
   "source": [
    "    if __name__ == '__main__': \n",
    "        __import__('unittest').TextTestRunner().run(Test())"
   ]
  },
  {
   "cell_type": "code",
   "execution_count": null,
   "metadata": {},
   "outputs": [],
   "source": []
  }
 ],
 "metadata": {
  "kernelspec": {
   "display_name": "p6",
   "language": "python",
   "name": "other-env"
  },
  "language_info": {
   "codemirror_mode": {
    "name": "ipython",
    "version": 3
   },
   "file_extension": ".py",
   "mimetype": "text/x-python",
   "name": "python",
   "nbconvert_exporter": "python",
   "pygments_lexer": "ipython3",
   "version": "3.6.3"
  },
  "toc": {
   "colors": {
    "hover_highlight": "#DAA520",
    "running_highlight": "#FF0000",
    "selected_highlight": "#FFD700"
   },
   "moveMenuLeft": true,
   "nav_menu": {
    "height": "29px",
    "width": "252px"
   },
   "navigate_menu": true,
   "number_sections": true,
   "sideBar": true,
   "threshold": 4,
   "toc_cell": false,
   "toc_section_display": "block",
   "toc_window_display": false,
   "widenNotebook": false
  },
  "varInspector": {
   "cols": {
    "lenName": 16,
    "lenType": 16,
    "lenVar": 40
   },
   "kernels_config": {
    "python": {
     "delete_cmd_postfix": "",
     "delete_cmd_prefix": "del ",
     "library": "var_list.py",
     "varRefreshCmd": "print(var_dic_list())"
    },
    "r": {
     "delete_cmd_postfix": ") ",
     "delete_cmd_prefix": "rm(",
     "library": "var_list.r",
     "varRefreshCmd": "cat(var_dic_list()) "
    }
   },
   "types_to_exclude": [
    "module",
    "function",
    "builtin_function_or_method",
    "instance",
    "_Feature"
   ],
   "window_display": false
  }
 },
 "nbformat": 4,
 "nbformat_minor": 2
}
