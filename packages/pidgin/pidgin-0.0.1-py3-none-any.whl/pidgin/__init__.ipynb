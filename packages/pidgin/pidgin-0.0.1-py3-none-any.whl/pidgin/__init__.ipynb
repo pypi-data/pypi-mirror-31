{
 "cells": [
  {
   "cell_type": "code",
   "execution_count": 1,
   "metadata": {},
   "outputs": [],
   "source": [
    "    with __import__('importnb').Notebook():\n",
    "        try:\n",
    "            from . import config, conventions, markdown, recall, template\n",
    "        except:\n",
    "            import config, conventions, markdown, recall, template"
   ]
  },
  {
   "cell_type": "code",
   "execution_count": 2,
   "metadata": {},
   "outputs": [],
   "source": [
    "    def load_ipython_extension(ip):\n",
    "        %reload_ext importnb\n",
    "        from pidgin.config import alias\n",
    "        if __name__ == '__main__':\n",
    "            %reload_ext config\n",
    "        else:\n",
    "            %reload_ext pidgin.config"
   ]
  },
  {
   "cell_type": "code",
   "execution_count": 3,
   "metadata": {},
   "outputs": [],
   "source": [
    "    def unload_ipython_extension(ip):\n",
    "        from IPython.core.inputsplitter import IPythonInputSplitter\n",
    "        ip.input_transformer_manager = IPythonInputSplitter()"
   ]
  },
  {
   "cell_type": "code",
   "execution_count": 4,
   "metadata": {},
   "outputs": [
    {
     "name": "stdout",
     "output_type": "stream",
     "text": [
      "[NbConvertApp] Converting notebook __init__.ipynb to python\n",
      "[NbConvertApp] Writing 886 bytes to __init__.py\n"
     ]
    }
   ],
   "source": [
    "    if __name__ == '__main__':\n",
    "        !jupyter nbconvert --to python __init__.ipynb\n",
    "#         load_ipython_extension(__import__('IPython').get_ipython())"
   ]
  }
 ],
 "metadata": {
  "kernelspec": {
   "display_name": "p6",
   "language": "python",
   "name": "other-env"
  },
  "language_info": {
   "codemirror_mode": {
    "name": "ipython",
    "version": 3
   },
   "file_extension": ".py",
   "mimetype": "text/x-python",
   "name": "python",
   "nbconvert_exporter": "python",
   "pygments_lexer": "ipython3",
   "version": "3.6.3"
  }
 },
 "nbformat": 4,
 "nbformat_minor": 2
}
