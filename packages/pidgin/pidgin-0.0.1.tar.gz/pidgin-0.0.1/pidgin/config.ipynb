{
 "cells": [
  {
   "cell_type": "markdown",
   "metadata": {},
   "source": [
    "# `%pidgin` and `%%pidgin`\n",
    "\n"
   ]
  },
  {
   "cell_type": "code",
   "execution_count": 77,
   "metadata": {},
   "outputs": [],
   "source": [
    "    from contextlib import contextmanager"
   ]
  },
  {
   "cell_type": "code",
   "execution_count": 114,
   "metadata": {},
   "outputs": [],
   "source": [
    "    alias = {str: f\"pidgin.{str}\" for str in ('markdown', 'template', 'conventions')}\n",
    "    #     alias['test'] = 'sweet.test'\n",
    "    #     alias['typing'] = 'sweet.typing'"
   ]
  },
  {
   "cell_type": "code",
   "execution_count": 111,
   "metadata": {},
   "outputs": [],
   "source": [
    "    from argparse import ArgumentParser\n",
    "\n",
    "    parser = ArgumentParser('pidgin', fromfile_prefix_chars='@')\n",
    "    parser.add_argument(\n",
    "        'on', nargs='*', \n",
    "        default=[],\n",
    "        help='Turn on IPython magics by package path.'\n",
    "    )\n",
    "    parser.add_argument(\n",
    "        '-🚫', '--off', nargs='*', default=[],\n",
    "        help='Turn off IPython magics package path or as a file.'\n",
    "    );\n",
    "    def pidgin(line, cell=None):\n",
    "        ip = __import__('IPython').get_ipython()\n",
    "\n",
    "        def magics_state(on=[], off=[]):\n",
    "            from importlib import import_module\n",
    "            from warnings import warn\n",
    "            global alias\n",
    "            nonlocal ip\n",
    "            for object, prefix in zip((on, off), ('', 'un')):\n",
    "                for object in [alias.get(str, str) for str in object]:\n",
    "                    try:\n",
    "                        getattr(import_module(object), f'{prefix}load_ipython_extension')(ip)\n",
    "                    except AttributeError as e:\n",
    "                        warn(str(e))\n",
    "                        \n",
    "        object = parser.parse_args(line.split())\n",
    "        \n",
    "        magics_state(object.on, object.off)\n",
    "        \n",
    "        if cell:\n",
    "            try: ip.run_cell(cell)\n",
    "            except: ...\n",
    "            finally: magics_state([], object.on)\n",
    "    \n",
    "\n"
   ]
  },
  {
   "cell_type": "code",
   "execution_count": 112,
   "metadata": {},
   "outputs": [],
   "source": [
    "    def load_ipython_extension(ip=None):\n",
    "        ip = ip or __import__('IPython').get_ipython()\n",
    "        ip.register_magic_function(pidgin, 'line_cell')\n",
    "        \n",
    "    def unload_ipython_extension(ip=None):\n",
    "        del (ip or __import__('IPython').get_ipython()).magics_manager.magics['line']['pidgin']"
   ]
  },
  {
   "cell_type": "code",
   "execution_count": 108,
   "metadata": {},
   "outputs": [],
   "source": [
    "    def test():\n",
    "        def areload():\n",
    "            try: del ip.magics_manager.magics['line']['autoreload']\n",
    "            except: ...\n",
    "        \n",
    "        ip = __import__('IPython').get_ipython()\n",
    "        load_ipython_extension()\n",
    "        areload()\n",
    "        assert 'autoreload' not in ip.magics_manager.magics['line']\n",
    "        %pidgin autoreload\n",
    "        assert 'autoreload' in ip.magics_manager.magics['line']\n",
    "        assert 'pidgin' in ip.magics_manager.magics['line']\n",
    "        %pidgin --off __main__\n",
    "        assert 'pidgin' not in ip.magics_manager.magics['line']\n",
    "        areload()\n",
    "        \n",
    "    def test_file(): ..."
   ]
  },
  {
   "cell_type": "code",
   "execution_count": 109,
   "metadata": {},
   "outputs": [
    {
     "name": "stdout",
     "output_type": "stream",
     "text": [
      "<unittest.result.TestResult run=2 errors=0 failures=0>\n"
     ]
    }
   ],
   "source": [
    "    if __name__ == '__main__':\n",
    "        from unittest import FunctionTestCase, TestResult\n",
    "        result = TestResult()\n",
    "        [FunctionTestCase(object).run(result) for object in (test, test_file)]\n",
    "        print(result)\n",
    "        load_ipython_extension()"
   ]
  },
  {
   "cell_type": "code",
   "execution_count": null,
   "metadata": {},
   "outputs": [],
   "source": []
  },
  {
   "cell_type": "code",
   "execution_count": null,
   "metadata": {},
   "outputs": [],
   "source": []
  }
 ],
 "metadata": {
  "kernelspec": {
   "display_name": "p6",
   "language": "python",
   "name": "other-env"
  },
  "language_info": {
   "codemirror_mode": {
    "name": "ipython",
    "version": 3
   },
   "file_extension": ".py",
   "mimetype": "text/x-python",
   "name": "python",
   "nbconvert_exporter": "python",
   "pygments_lexer": "ipython3",
   "version": "3.6.3"
  },
  "varInspector": {
   "cols": {
    "lenName": 16,
    "lenType": 16,
    "lenVar": 40
   },
   "kernels_config": {
    "python": {
     "delete_cmd_postfix": "",
     "delete_cmd_prefix": "del ",
     "library": "var_list.py",
     "varRefreshCmd": "print(var_dic_list())"
    },
    "r": {
     "delete_cmd_postfix": ") ",
     "delete_cmd_prefix": "rm(",
     "library": "var_list.r",
     "varRefreshCmd": "cat(var_dic_list()) "
    }
   },
   "types_to_exclude": [
    "module",
    "function",
    "builtin_function_or_method",
    "instance",
    "_Feature"
   ],
   "window_display": false
  }
 },
 "nbformat": 4,
 "nbformat_minor": 2
}
