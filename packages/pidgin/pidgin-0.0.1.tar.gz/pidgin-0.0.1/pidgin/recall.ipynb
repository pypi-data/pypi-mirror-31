{
 "cells": [
  {
   "cell_type": "markdown",
   "metadata": {},
   "source": [
    "# by *convention* notebooks should be easy to re-use.\n",
    "\n",
    "__pidgin.recall__ reuses notebooks as functions; single, literal assignments in the notebook are parameters."
   ]
  },
  {
   "cell_type": "code",
   "execution_count": 1,
   "metadata": {},
   "outputs": [],
   "source": [
    "    ...; o = __name__ == '__main__'; ...;"
   ]
  },
  {
   "cell_type": "markdown",
   "metadata": {},
   "source": [
    "Are single target `ast.Expr` that will `ast.literal_eval` is a possible parameter."
   ]
  },
  {
   "cell_type": "code",
   "execution_count": 2,
   "metadata": {},
   "outputs": [],
   "source": [
    "    from ast import NodeTransformer, parse, Assign, literal_eval, dump, fix_missing_locations, Str, Tuple\n",
    "    from dataclasses import dataclass, field\n",
    "    @dataclass\n",
    "    class FreeStatement(NodeTransformer):\n",
    "        params: list = field(default_factory=list)\n",
    "        globals: dict = field(default_factory=dict)\n",
    "        def visit_FunctionDef(FreeStatement, node): return node\n",
    "        \n",
    "        visit_ClassDef = visit_FunctionDef\n",
    "                \n",
    "        def visit_Assign(FreeStatement, node):\n",
    "            if len(node.targets):\n",
    "                try:\n",
    "                    if not getattr(node.targets[0], 'id', '_').startswith('_'):\n",
    "                        FreeStatement.globals[node.targets[0].id] = literal_eval(node.value)\n",
    "                        return \n",
    "                except: assert True, \"\"\"The target can not will not literally evaluate.\"\"\"\n",
    "            return node\n",
    "                \n",
    "        def __call__(FreeStatement, nodes): return FreeStatement.globals, fix_missing_locations(FreeStatement.visit(nodes))"
   ]
  },
  {
   "cell_type": "markdown",
   "metadata": {},
   "source": [
    "# `Parameterize` notebooks\n",
    "\n",
    "`Parameterize` is callable version of a notebook.  It uses `pidgin` to load the `NotebookNode` and evaluates the `FreeStatement`s to discover the signature."
   ]
  },
  {
   "cell_type": "code",
   "execution_count": 3,
   "metadata": {},
   "outputs": [],
   "source": [
    "    @dataclass(repr=False)\n",
    "    class Parameterize:\n",
    "        __file__: str = field(default=None, metadata=\"\"\"A valid filename for the notebook is needed to import it.\"\"\")\n",
    "        __ast__: any = field(default=None, metadata=\"\"\"The module ast.\"\"\")\n",
    "        __variables__: any = field(default_factory=dict, metadata=\"\"\"The FreeStatement expression in the ast.\"\"\")\n",
    "        __notebook__: dict = field(default_factory=dict, metadata=\"\"\"A serialized notebook.\"\"\")\n",
    "            \n",
    "        def __post_init__(Parameterize):\n",
    "            from IPython.utils.capture import capture_output\n",
    "            from pathlib import Path\n",
    "            Parameterize.__name__ = Path(Parameterize.__file__).stem\n",
    "            with open(Parameterize.__file__) as f: \n",
    "                Parameterize.__notebook__ = __import__('nbformat').read(f, 4)       \n",
    "            with capture_output(stdout=False, stderr=False) as output:\n",
    "                Parameterize.__variables__, Parameterize.__ast__ = \\\n",
    "                    FreeStatement()(AST().from_notebook_node(Parameterize.__notebook__))\n",
    "            Parameterize.__output__ = output\n",
    "            Parameterize.__signature__ = Parameterize.vars_to_sig(**Parameterize.__variables__)\n",
    "#             Parameterize.__doc__ = docify(Parameterize.__notebook__)\n",
    "\n",
    "        def __call__(Parameterize, **dict):\n",
    "            Parameterize = __import__('copy').copy(Parameterize)\n",
    "            Parameterize.__dict__.update(Parameterize.__variables__)\n",
    "            Parameterize.__dict__.update(dict)\n",
    "            exec(AST(filename=Parameterize.__file__).compile(Parameterize.__ast__), *[Parameterize.__dict__]*2)\n",
    "            return Parameterize\n",
    "        \n",
    "        def interact(Parameterize): \n",
    "            \"\"\"Use the ipywidgets.interact to explore the parameterized notebook.\"\"\"\n",
    "            return __import__('ipywidgets').interact(Parameterize)\n",
    "        \n",
    "        @staticmethod\n",
    "        def vars_to_sig(**vars):\n",
    "            \"\"\"Create a signature for a dictionary of names.\"\"\"\n",
    "            from inspect import Parameter, Signature\n",
    "            return Signature([Parameter(str, Parameter.KEYWORD_ONLY, default = vars[str]) for str in vars])\n",
    "    \n",
    "    try: from importnb.loader import AST\n",
    "    except: from importnb.loader import AST"
   ]
  },
  {
   "cell_type": "markdown",
   "metadata": {},
   "source": [
    "#### Examples that do work"
   ]
  },
  {
   "cell_type": "code",
   "execution_count": 4,
   "metadata": {},
   "outputs": [],
   "source": [
    "    param = 'xyz'\n",
    "    extraparam = 42"
   ]
  },
  {
   "cell_type": "markdown",
   "metadata": {},
   "source": [
    "#### Examples that do *not* work"
   ]
  },
  {
   "cell_type": "code",
   "execution_count": 5,
   "metadata": {},
   "outputs": [],
   "source": [
    "    \"\"\"Parameters are not created when literal_eval fails.\"\"\"\n",
    "    noparam0 = Parameterize\n",
    "    \n",
    "    \"\"\"Multiple target assignments are ignored.\"\"\"\n",
    "    noparam1, noparam2 = 'xyz', 42"
   ]
  },
  {
   "cell_type": "markdown",
   "metadata": {},
   "source": [
    "## Developer"
   ]
  },
  {
   "cell_type": "code",
   "execution_count": 6,
   "metadata": {},
   "outputs": [
    {
     "name": "stdout",
     "output_type": "stream",
     "text": [
      "Trying:\n",
      "    default = f()\n",
      "Expecting nothing\n",
      "ok\n",
      "Trying:\n",
      "    assert default.param == default.noparam1 == 'xyz' and default.noparam2 == 42\n",
      "Expecting nothing\n",
      "ok\n",
      "Trying:\n",
      "    assert all(str not in default.__signature__.parameters for str in ('noparam', 'noparam1', 'noparam2'))\n",
      "Expecting nothing\n",
      "ok\n",
      "Trying:\n",
      "    assert callable(f)\n",
      "Expecting nothing\n",
      "ok\n",
      "Trying:\n",
      "    new = f(param=10)\n",
      "Expecting nothing\n",
      "ok\n",
      "Trying:\n",
      "    assert new.param is 10 and new.extraparam is 42\n",
      "Expecting nothing\n",
      "ok\n",
      "10 items had no tests:\n",
      "    __main__\n",
      "    __main__.FreeStatement\n",
      "    __main__.FreeStatement.__call__\n",
      "    __main__.FreeStatement.visit_Assign\n",
      "    __main__.FreeStatement.visit_FunctionDef\n",
      "    __main__.Parameterize\n",
      "    __main__.Parameterize.__call__\n",
      "    __main__.Parameterize.__post_init__\n",
      "    __main__.Parameterize.interact\n",
      "    __main__.Parameterize.vars_to_sig\n",
      "3 items passed all tests:\n",
      "   3 tests in __main__.__test__.default\n",
      "   1 tests in __main__.__test__.imports\n",
      "   2 tests in __main__.__test__.reuse\n",
      "6 tests in 13 items.\n",
      "6 passed and 0 failed.\n",
      "Test passed.\n"
     ]
    }
   ],
   "source": [
    "    __test__ = dict(\n",
    "        imports=\"\"\"\n",
    "        >>> assert callable(f)\n",
    "        \"\"\",\n",
    "        default=\"\"\"\n",
    "        >>> default = f()\n",
    "        >>> assert default.param == default.noparam1 == 'xyz' and default.noparam2 == 42\n",
    "        >>> assert all(str not in default.__signature__.parameters for str in ('noparam', 'noparam1', 'noparam2'))\n",
    "        \"\"\",\n",
    "        reuse=\"\"\"\n",
    "        >>> new = f(param=10)\n",
    "        >>> assert new.param is 10 and new.extraparam is 42\"\"\",\n",
    "    )\n",
    "    if o:\n",
    "        f = Parameterize(globals().get('__file__', 'recall.ipynb'))\n",
    "        __import__('doctest').testmod(verbose=1)"
   ]
  }
 ],
 "metadata": {
  "kernelspec": {
   "display_name": "p6",
   "language": "python",
   "name": "other-env"
  },
  "language_info": {
   "codemirror_mode": {
    "name": "ipython",
    "version": 3
   },
   "file_extension": ".py",
   "mimetype": "text/x-python",
   "name": "python",
   "nbconvert_exporter": "python",
   "pygments_lexer": "ipython3",
   "version": "3.6.3"
  },
  "toc": {
   "colors": {
    "hover_highlight": "#DAA520",
    "running_highlight": "#FF0000",
    "selected_highlight": "#FFD700"
   },
   "moveMenuLeft": true,
   "nav_menu": {
    "height": "30px",
    "width": "252px"
   },
   "navigate_menu": true,
   "number_sections": true,
   "sideBar": true,
   "threshold": 4,
   "toc_cell": false,
   "toc_section_display": "block",
   "toc_window_display": false,
   "widenNotebook": false
  },
  "varInspector": {
   "cols": {
    "lenName": 16,
    "lenType": 16,
    "lenVar": 40
   },
   "kernels_config": {
    "python": {
     "delete_cmd_postfix": "",
     "delete_cmd_prefix": "del ",
     "library": "var_list.py",
     "varRefreshCmd": "print(var_dic_list())"
    },
    "r": {
     "delete_cmd_postfix": ") ",
     "delete_cmd_prefix": "rm(",
     "library": "var_list.r",
     "varRefreshCmd": "cat(var_dic_list()) "
    }
   },
   "types_to_exclude": [
    "module",
    "function",
    "builtin_function_or_method",
    "instance",
    "_Feature"
   ],
   "window_display": false
  }
 },
 "nbformat": 4,
 "nbformat_minor": 2
}
