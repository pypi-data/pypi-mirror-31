{
 "cells": [
  {
   "cell_type": "markdown",
   "metadata": {},
   "source": [
    "# by *convention* documents should use real data.\n",
    "\n",
    "__pidgin.template__ supports jinja2 syntax to data in code cells before they execute."
   ]
  },
  {
   "cell_type": "markdown",
   "metadata": {},
   "source": [
    "## Python Line Transformer"
   ]
  },
  {
   "cell_type": "code",
   "execution_count": null,
   "metadata": {},
   "outputs": [],
   "source": [
    "    from IPython.core.error import InputRejected\n",
    "    from traceback import format_exception_only\n",
    "    from IPython import get_ipython\n",
    "    from IPython.core.inputtransformer import InputTransformer\n",
    "    from jinja2 import Environment, TemplateError\n",
    "    from collections import UserList\n",
    "    from dataclasses import dataclass, field\n",
    "\n",
    "    @dataclass\n",
    "    class Template(InputTransformer, UserList):\n",
    "        environment = Environment()\n",
    "        user_ns: dict = field(default=None, repr=False)\n",
    "        data: list = field(default_factory=list)\n",
    "        \n",
    "        def __post_init__(self): \n",
    "            if self.user_ns is None: self.user_ns = get_ipython().user_ns\n",
    "            \n",
    "        def push(self, line): self.data.append(line)\n",
    "        \n",
    "        def reset(self, *, code=\"\"\"\"\"\"):\n",
    "            while self.data: \n",
    "                code += self.data.pop(0) + \"\\n\"\n",
    "            try:\n",
    "                return self.environment.from_string(code).render(**self.user_ns)\n",
    "            except TemplateError as Exception:\n",
    "                # http://ipython.readthedocs.io/en/stable/config/inputtransforms.html#string-based-transformations\n",
    "                raise SyntaxError(format_exception_only(type(Exception), Exception))\n",
    "        \n",
    "        def __enter__(self,): \n",
    "            get_ipython().input_transformer_manager.python_line_transforms.insert(0, self)\n",
    "        \n",
    "        def __exit__(self, *args): \n",
    "            get_ipython().input_transformer_manager.python_line_transforms = list(\n",
    "                filter(self.__ne__, get_ipython().input_transformer_manager.python_line_transforms))"
   ]
  },
  {
   "cell_type": "markdown",
   "metadata": {},
   "source": [
    "## Incremental Importing of Templated Documents"
   ]
  },
  {
   "cell_type": "markdown",
   "metadata": {},
   "source": [
    "TemplateLoader has to execute its own module and cache it in exec module.  Compile does the caching.  Compile needs to be called after the ast is evaluated."
   ]
  },
  {
   "cell_type": "code",
   "execution_count": 1,
   "metadata": {},
   "outputs": [],
   "source": [
    "    from importnb.loader import Notebook, AST"
   ]
  },
  {
   "cell_type": "code",
   "execution_count": 3,
   "metadata": {},
   "outputs": [],
   "source": [
    "    class Incremental(AST):\n",
    "        def from_code_cell(Incremental, cell, **dict):\n",
    "            module = dict.pop('module')\n",
    "            Module = super(type(Incremental), Incremental).from_code_cell(cell, **dict)\n",
    "            \n",
    "            if Module:\n",
    "                eval(Incremental.compile(Module), module.__dict__, module.__dict__)\n",
    "            return Module\n",
    "        \n",
    "        def from_notebook_node(AST, nb, resource: dict=None, **dict):         \n",
    "            ast = super().from_notebook_node(nb, resource, **dict)\n",
    "            return AST.compile(ast) and ast "
   ]
  },
  {
   "cell_type": "code",
   "execution_count": 4,
   "metadata": {},
   "outputs": [],
   "source": [
    "    class ImportTemplate(Notebook):\n",
    "        def exec_module(Loader, module):\n",
    "            from IPython.utils.capture import capture_output    \n",
    "            with capture_output(stdout=False, stderr=False) as output: \n",
    "                try: \n",
    "                    with Template(user_ns=module.__dict__):\n",
    "                        parser = Incremental(Loader.path, Loader.name)\n",
    "                        with __import__('io').BytesIO(Loader.get_data(Loader.path)) as data:\n",
    "                            parser.compile(parser.from_file(data, module=module))\n",
    "                            \n",
    "                except type('pass', (BaseException,), {}): ...\n",
    "                finally: module.__output__ = output\n",
    "            return module"
   ]
  },
  {
   "cell_type": "markdown",
   "metadata": {},
   "source": [
    "## IPython Extensions"
   ]
  },
  {
   "cell_type": "markdown",
   "metadata": {},
   "source": [
    "    %unload_ext pidgin.template"
   ]
  },
  {
   "cell_type": "code",
   "execution_count": 5,
   "metadata": {},
   "outputs": [],
   "source": [
    "    def unload_ipython_extension(ip=None):\n",
    "        ip = ip or get_ipython()\n",
    "        ip.input_transformer_manager.python_line_transforms = [\n",
    "            object for object in ip.input_transformer_manager.python_line_transforms\n",
    "            if not isinstance(object, Template)\n",
    "        ]\n",
    "        ImportTemplate().__exit__()\n",
    "    "
   ]
  },
  {
   "cell_type": "markdown",
   "metadata": {},
   "source": [
    "    %reload_ext pidgin.template"
   ]
  },
  {
   "cell_type": "code",
   "execution_count": 6,
   "metadata": {},
   "outputs": [],
   "source": [
    "    def load_ipython_extension(ip=get_ipython()):\n",
    "        ip.input_transformer_manager.python_line_transforms.insert(0, Template())\n",
    "        ImportTemplate().__exit__()\n",
    "        ImportTemplate().__enter__()\n",
    "        "
   ]
  },
  {
   "cell_type": "markdown",
   "metadata": {},
   "source": [
    "## Testing"
   ]
  },
  {
   "cell_type": "code",
   "execution_count": 7,
   "metadata": {},
   "outputs": [],
   "source": [
    "    class Test(__import__('unittest').TestCase): \n",
    "        def setUp(Test):\n",
    "            %reload_ext pidgin\n",
    "            load_ipython_extension()\n",
    "            from nbformat import write, v4\n",
    "            with open('test_template.ipynb', 'w') as file:\n",
    "                write(v4.new_notebook(cells=[\n",
    "                    v4.new_code_cell(\"\"\"if __name__ == '__main__':\n",
    "                    %reload_ext template\"\"\"),\n",
    "                    v4.new_code_cell(\"\"\"a=42\"\"\"),\n",
    "                    v4.new_code_cell(\"\"\"b={{a}}*10\"\"\")\n",
    "                ]), file)\n",
    "                \n",
    "        def runTest(Test):\n",
    "            global test_template\n",
    "            import test_template\n",
    "            assert test_template.__file__.endswith('.ipynb')\n",
    "            assert test_template.a is 42\n",
    "            assert test_template.b == 420\n",
    "            \n",
    "        def tearDown(Test):\n",
    "            %rm test_template.ipynb\n",
    "            unload_ipython_extension()"
   ]
  },
  {
   "cell_type": "markdown",
   "metadata": {},
   "source": [
    "## Developer"
   ]
  },
  {
   "cell_type": "code",
   "execution_count": 8,
   "metadata": {},
   "outputs": [
    {
     "name": "stderr",
     "output_type": "stream",
     "text": [
      "."
     ]
    },
    {
     "name": "stdout",
     "output_type": "stream",
     "text": [
      "18 items had no tests:\n",
      "    __main__\n",
      "    __main__.ImportTemplate\n",
      "    __main__.ImportTemplate.exec_module\n",
      "    __main__.Incremental\n",
      "    __main__.Incremental.from_code_cell\n",
      "    __main__.Incremental.from_notebook_node\n",
      "    __main__.Template\n",
      "    __main__.Template.__enter__\n",
      "    __main__.Template.__exit__\n",
      "    __main__.Template.__post_init__\n",
      "    __main__.Template.push\n",
      "    __main__.Template.reset\n",
      "    __main__.Test\n",
      "    __main__.Test.runTest\n",
      "    __main__.Test.setUp\n",
      "    __main__.Test.tearDown\n",
      "    __main__.load_ipython_extension\n",
      "    __main__.unload_ipython_extension\n",
      "0 tests in 18 items.\n",
      "0 passed and 0 failed.\n",
      "Test passed.\n"
     ]
    },
    {
     "name": "stderr",
     "output_type": "stream",
     "text": [
      "\n",
      "----------------------------------------------------------------------\n",
      "Ran 1 test in 0.149s\n",
      "\n",
      "OK\n"
     ]
    }
   ],
   "source": [
    "    if __name__ == '__main__': \n",
    "        reporter = __import__('unittest').TextTestRunner()\n",
    "        reporter.run(Test())\n",
    "        __import__('doctest').testmod(verbose=2, report=reporter)"
   ]
  }
 ],
 "metadata": {
  "kernelspec": {
   "display_name": "p6",
   "language": "python",
   "name": "other-env"
  },
  "language_info": {
   "codemirror_mode": {
    "name": "ipython",
    "version": 3
   },
   "file_extension": ".py",
   "mimetype": "text/x-python",
   "name": "python",
   "nbconvert_exporter": "python",
   "pygments_lexer": "ipython3",
   "version": "3.6.3"
  },
  "toc": {
   "colors": {
    "hover_highlight": "#DAA520",
    "running_highlight": "#FF0000",
    "selected_highlight": "#FFD700"
   },
   "moveMenuLeft": true,
   "nav_menu": {
    "height": "29px",
    "width": "252px"
   },
   "navigate_menu": true,
   "number_sections": true,
   "sideBar": true,
   "threshold": 4,
   "toc_cell": false,
   "toc_section_display": "block",
   "toc_window_display": false,
   "widenNotebook": false
  },
  "varInspector": {
   "cols": {
    "lenName": 16,
    "lenType": 16,
    "lenVar": 40
   },
   "kernels_config": {
    "python": {
     "delete_cmd_postfix": "",
     "delete_cmd_prefix": "del ",
     "library": "var_list.py",
     "varRefreshCmd": "print(var_dic_list())"
    },
    "r": {
     "delete_cmd_postfix": ") ",
     "delete_cmd_prefix": "rm(",
     "library": "var_list.r",
     "varRefreshCmd": "cat(var_dic_list()) "
    }
   },
   "types_to_exclude": [
    "module",
    "function",
    "builtin_function_or_method",
    "instance",
    "_Feature"
   ],
   "window_display": false
  }
 },
 "nbformat": 4,
 "nbformat_minor": 2
}
