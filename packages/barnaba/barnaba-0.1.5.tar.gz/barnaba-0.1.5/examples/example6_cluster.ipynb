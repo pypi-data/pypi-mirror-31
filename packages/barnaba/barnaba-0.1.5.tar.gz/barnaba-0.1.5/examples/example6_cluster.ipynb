{
 "cells": [
  {
   "cell_type": "code",
   "execution_count": 1,
   "metadata": {},
   "outputs": [
    {
     "data": {
      "application/javascript": [
       "IPython.notebook.set_autosave_interval(0)"
      ]
     },
     "metadata": {},
     "output_type": "display_data"
    },
    {
     "name": "stdout",
     "output_type": "stream",
     "text": [
      "Autosave disabled\n"
     ]
    }
   ],
   "source": [
    "%autosave 0\n",
    "from __future__ import print_function"
   ]
  },
  {
   "cell_type": "markdown",
   "metadata": {},
   "source": [
    "# Clustering RNA structures\n",
    "\n",
    "We start by clustering the structures obtained from the example \"example8_snippet.ipynb\", where we extracted all fragments with sequence GNRA from the PDB of the large ribosomal subunit. \n",
    "\n",
    "A. we calculate g-vectors for all PDB files\n"
   ]
  },
  {
   "cell_type": "code",
   "execution_count": 2,
   "metadata": {},
   "outputs": [
    {
     "name": "stdout",
     "output_type": "stream",
     "text": [
      "('# number of fragments:', 0)\n",
      "# You need to run the example example8_snippet.ipynb\n"
     ]
    }
   ],
   "source": [
    "import glob\n",
    "import barnaba as bb\n",
    "import numpy as np\n",
    "\n",
    "flist = glob.glob(\"snippet/*.pdb\")\n",
    "if(len(flist)==0):\n",
    "    print(\"# You need to run the example example8_snippet.ipynb\")\n",
    "    exit()\n",
    "    \n",
    "# calculate G-VECTORS  for all files\n",
    "gvecs = []\n",
    "for f in flist:\n",
    "    gvec,seq = bb.dump_gvec(f)\n",
    "    assert len(seq)==4\n",
    "    gvecs.extend(gvec)\n",
    "\n"
   ]
  },
  {
   "cell_type": "markdown",
   "metadata": {},
   "source": [
    "B. Then, we reshape the array so that has the dimension $(N,n \\ast 4\\ast 4)$, where N is the number of frames and n is the number of nucleotides "
   ]
  },
  {
   "cell_type": "code",
   "execution_count": 3,
   "metadata": {},
   "outputs": [
    {
     "name": "stdout",
     "output_type": "stream",
     "text": [
      "(149, 64)\n"
     ]
    }
   ],
   "source": [
    "gvecs = np.array(gvecs)\n",
    "gvecs = gvecs.reshape(149,-1)\n",
    "print(gvecs.shape)\n"
   ]
  },
  {
   "cell_type": "markdown",
   "metadata": {},
   "source": [
    "C. We first perform a simple principal component analysis on the data\n"
   ]
  },
  {
   "cell_type": "code",
   "execution_count": 4,
   "metadata": {},
   "outputs": [
    {
     "name": "stdout",
     "output_type": "stream",
     "text": [
      "# Cumulative explained variance of component: 1= 26.6 2:= 48.7 3= 64.9\n"
     ]
    }
   ],
   "source": [
    "import barnaba.cluster as cc\n",
    "# calculate PCA\n",
    "v,w = cc.pca(gvecs,nevecs=3)\n",
    "print(\"# Cumulative explained variance of component: 1=%5.1f 2:=%5.1f 3=%5.1f\" % (v[0]*100,v[1]*100,v[2]*100))"
   ]
  },
  {
   "cell_type": "code",
   "execution_count": 5,
   "metadata": {},
   "outputs": [
    {
     "data": {
      "text/plain": [
       "<matplotlib.text.Text at 0x1a169ca978>"
      ]
     },
     "execution_count": 5,
     "metadata": {},
     "output_type": "execute_result"
    },
    {
     "data": {
      "image/png": "[encoded data removed]",
      "text/plain": [
       "<matplotlib.figure.Figure at 0x1a15b51400>"
      ]
     },
     "metadata": {},
     "output_type": "display_data"
    }
   ],
   "source": [
    "%matplotlib inline\n",
    "import matplotlib.pyplot as plt\n",
    "import seaborn as sns\n",
    "sns.set_style(\"white\")\n",
    "\n",
    "plt.scatter(w[:,0],w[:,1])\n",
    "plt.xlabel(\"PC1\")\n",
    "plt.ylabel(\"PC2\")"
   ]
  },
  {
   "cell_type": "markdown",
   "metadata": {},
   "source": [
    "D. We make use of DBSCAN in sklearn to do the clustering. The function cc.dbscan takes four arguments:  \n",
    "    i. the list of G-vectors gvec  \n",
    "    ii. the list of labels for each point  \n",
    "    iii. the eps value\n",
    "    iv. min_samples \n",
    "    v. (optional) the weight of the samples for non-uniform clustering\n",
    "\n",
    "The function outputs some information on the clustering: the number of clusters, the number of samples assigned to clusters (non noise), and silouetthe.\n",
    "\n",
    "For each cluster it reports the size, the  maximum eRMSD distance between samples in a cluster (IC=intra-cluster), the median  intra-cluster eRMSD, the maximum and median distance from the centroid.  "
   ]
  },
  {
   "cell_type": "code",
   "execution_count": 6,
   "metadata": {},
   "outputs": [
    {
     "name": "stdout",
     "output_type": "stream",
     "text": [
      "# eps:0.700 min_samples:8  nclusters: 5\n",
      "#  silhouette score: 0.1728\n",
      "# Avg silhouette: 0.6111 \n",
      "# assigned samples :71 total samples:149 \n",
      "#  N size       max eRMSD (IC)       med eRMSD (IC) max eRMSD (centroid) med eRMSD (centroid) center \n",
      "# 00 0026                0.613                0.309                0.440                0.222 00 118\n",
      "# 01 0022                0.553                0.337                0.372                0.280 01 11\n",
      "# 02 0015                0.543                0.286                0.370                0.229 02 4\n",
      "# 03 0008                0.453                0.228                0.311                0.158 03 8\n"
     ]
    }
   ],
   "source": [
    "new_labels, center_idx = cc.dbscan(gvecs,range(gvecs.shape[0]),eps=0.7,min_samples=8)\n"
   ]
  },
  {
   "cell_type": "markdown",
   "metadata": {
    "collapsed": true
   },
   "source": [
    "We can now color the PCA according to the different cluster and display the centroid as a label:\n"
   ]
  },
  {
   "cell_type": "code",
   "execution_count": 7,
   "metadata": {},
   "outputs": [
    {
     "data": {
      "image/png": "[encoded data removed]",
      "text/plain": [
       "<matplotlib.figure.Figure at 0x1a16a5e048>"
      ]
     },
     "metadata": {},
     "output_type": "display_data"
    }
   ],
   "source": [
    "cp = sns.color_palette(\"hls\",len(center_idx)+1)\n",
    "colors = [cp[j-1] if(j!=0) else (0.77,0.77,0.77) for j in new_labels]\n",
    "size = [40 if(j!=0) else 10 for j in new_labels]\n",
    "#do scatterplot\n",
    "plt.scatter(w[:,0],w[:,1],s=size,c=colors)\n",
    "for i,k in enumerate(center_idx):\n",
    "    plt.text(w[k,0],w[k,1],str(i),ha='center',va='center',fontsize=25)"
   ]
  },
  {
   "cell_type": "markdown",
   "metadata": {},
   "source": [
    "E. We finally visualise the 4 centroids:"
   ]
  },
  {
   "cell_type": "code",
   "execution_count": 8,
   "metadata": {},
   "outputs": [
    {
     "data": {
      "text/html": [
       "<div id=\"3dmolviewer_1518362766543307\"  style=\"position: relative; width: 900px; height: 600px\">\n",
       "<script>\n",
       "if(typeof $3Dmolpromise === 'undefined') $3Dmolpromise = $.when($.getScript('https://3dmol.csb.pitt.edu/build/3Dmol.js'))\n",
       "var viewer_1518362766543307 = null;\n",
       "$3Dmolpromise.done(function() {\n",
       "var viewergrid_1518362766543307 = null;\n",
       "viewergrid_1518362766543307 = $3Dmol.createViewerGrid($(\"#3dmolviewer_1518362766543307\"),{rows: 2, cols: 2, control_all: true},{backgroundColor:\"white\"});\n",
       "viewer_1518362766543307 = viewergrid_1518362766543307[0][0];\n",
       "\tviewergrid_1518362766543307[0][0].addModel(\"MODEL \\nREMARK 504_G_0_0 505_C_0_0 506_G_0_0 507_A_0_0\\nATOM  10553  O5'   G 0 504      -1.584   7.513   4.344     1     1\\nATOM  10554  C5'   G 0 504      -1.680   8.544   3.350     1     1\\nATOM  10555  C4'   G 0 504      -0.648   8.324   2.275     1     1\\nATOM  10556  O4'   G 0 504       0.681   8.442   2.854     1     1\\nATOM  10557  C3'   G 0 504      -0.650   6.940   1.651     1     1\\nATOM  10558  O3'   G 0 504      -1.640   6.802   0.646     1     1\\nATOM  10559  C2'   G 0 504       0.766   6.845   1.107     1     1\\nATOM  10560  O2'   G 0 504       0.943   7.605  -0.069     1     1\\nATOM  10561  C1'   G 0 504       1.552   7.499   2.244     1     1\\nATOM  10562  N9    G 0 504       1.953   6.521   3.253     1     1\\nATOM  10563  C8    G 0 504       1.475   6.401   4.539     1     1\\nATOM  10564  N7    G 0 504       2.016   5.414   5.197     1     1\\nATOM  10565  C5    G 0 504       2.912   4.849   4.297     1     1\\nATOM  10566  C6    G 0 504       3.795   3.751   4.447     1     1\\nATOM  10567  O6    G 0 504       3.982   3.047   5.443     1     1\\nATOM  10568  N1    G 0 504       4.511   3.507   3.280     1     1\\nATOM  10569  C2    G 0 504       4.401   4.233   2.116     1     1\\nATOM  10570  N2    G 0 504       5.165   3.835   1.081     1     1\\nATOM  10571  N3    G 0 504       3.597   5.271   1.971     1     1\\nATOM  10572  C4    G 0 504       2.884   5.520   3.092     1     1\\nATOM  10573  P     C 0 505      -2.260   5.350   0.335     1     1\\nATOM  10574  OP1   C 0 505      -3.357   5.539  -0.646     1     1\\nATOM  10575  OP2   C 0 505      -2.538   4.663   1.622     1     1\\nATOM  10576  O5'   C 0 505      -1.083   4.584  -0.410     1     1\\nATOM  10577  C5'   C 0 505      -0.556   5.088  -1.641     1     1\\nATOM  10578  C4'   C 0 505       0.530   4.178  -2.155     1     1\\nATOM  10579  O4'   C 0 505       1.642   4.171  -1.225     1     1\\nATOM  10580  C3'   C 0 505       0.140   2.719  -2.302     1     1\\nATOM  10581  O3'   C 0 505      -0.520   2.513  -3.551     1     1\\nATOM  10582  C2'   C 0 505       1.495   2.020  -2.227     1     1\\nATOM  10583  O2'   C 0 505       2.219   2.073  -3.444     1     1\\nATOM  10584  C1'   C 0 505       2.219   2.881  -1.187     1     1\\nATOM  10585  N1    C 0 505       2.126   2.375   0.196     1     1\\nATOM  10586  C2    C 0 505       2.970   1.333   0.592     1     1\\nATOM  10587  O2    C 0 505       3.769   0.868  -0.228     1     1\\nATOM  10588  N3    C 0 505       2.893   0.864   1.860     1     1\\nATOM  10589  C4    C 0 505       2.022   1.401   2.719     1     1\\nATOM  10590  N4    C 0 505       1.982   0.914   3.957     1     1\\nATOM  10591  C5    C 0 505       1.153   2.464   2.343     1     1\\nATOM  10592  C6    C 0 505       1.235   2.915   1.085     1     1\\nATOM  10593  P     G 0 506      -1.805   1.548  -3.637     1     1\\nATOM  10594  OP1   G 0 506      -2.280   1.617  -5.038     1     1\\nATOM  10595  OP2   G 0 506      -2.737   1.864  -2.519     1     1\\nATOM  10596  O5'   G 0 506      -1.224   0.089  -3.399     1     1\\nATOM  10597  C5'   G 0 506      -0.412  -0.558  -4.391     1     1\\nATOM  10598  C4'   G 0 506       0.190  -1.809  -3.813     1     1\\nATOM  10599  O4'   G 0 506       1.071  -1.439  -2.720     1     1\\nATOM  10600  C3'   G 0 506      -0.815  -2.755  -3.173     1     1\\nATOM  10601  O3'   G 0 506      -1.435  -3.595  -4.139     1     1\\nATOM  10602  C2'   G 0 506       0.052  -3.516  -2.181     1     1\\nATOM  10603  O2'   G 0 506       0.836  -4.511  -2.804     1     1\\nATOM  10604  C1'   G 0 506       0.973  -2.402  -1.684     1     1\\nATOM  10605  N9    G 0 506       0.452  -1.748  -0.488     1     1\\nATOM  10606  C8    G 0 506      -0.407  -0.676  -0.418     1     1\\nATOM  10607  N7    G 0 506      -0.743  -0.369   0.806     1     1\\nATOM  10608  C5    G 0 506      -0.056  -1.286   1.588     1     1\\nATOM  10609  C6    G 0 506      -0.044  -1.470   2.995     1     1\\nATOM  10610  O6    G 0 506      -0.672  -0.849   3.861     1     1\\nATOM  10611  N1    G 0 506       0.801  -2.512   3.363     1     1\\nATOM  10612  C2    G 0 506       1.532  -3.282   2.490     1     1\\nATOM  10613  N2    G 0 506       2.293  -4.238   3.024     1     1\\nATOM  10614  N3    G 0 506       1.517  -3.128   1.183     1     1\\nATOM  10615  C4    G 0 506       0.706  -2.124   0.803     1     1\\nATOM  10616  P     A 0 507      -3.018  -3.874  -4.056     1     1\\nATOM  10617  OP1   A 0 507      -3.429  -4.474  -5.353     1     1\\nATOM  10618  OP2   A 0 507      -3.667  -2.634  -3.587     1     1\\nATOM  10619  O5'   A 0 507      -3.163  -4.973  -2.910     1     1\\nATOM  10620  C5'   A 0 507      -4.452  -5.327  -2.351     1     1\\nATOM  10621  C4'   A 0 507      -4.300  -6.492  -1.395     1     1\\nATOM  10622  O4'   A 0 507      -3.867  -7.662  -2.136     1     1\\nATOM  10623  C3'   A 0 507      -3.230  -6.306  -0.326     1     1\\nATOM  10624  O3'   A 0 507      -3.725  -5.612   0.809     1     1\\nATOM  10625  C2'   A 0 507      -2.819  -7.732   0.002     1     1\\nATOM  10626  O2'   A 0 507      -3.727  -8.359   0.883     1     1\\nATOM  10627  C1'   A 0 507      -2.917  -8.391  -1.375     1     1\\nATOM  10628  N9    A 0 507      -1.664  -8.429  -2.133     1     1\\nATOM  10629  C8    A 0 507      -1.321  -7.665  -3.227     1     1\\nATOM  10630  N7    A 0 507      -0.158  -7.976  -3.747     1     1\\nATOM  10631  C5    A 0 507       0.306  -8.998  -2.935     1     1\\nATOM  10632  C6    A 0 507       1.475  -9.765  -2.971     1     1\\nATOM  10633  N6    A 0 507       2.411  -9.641  -3.912     1     1\\nATOM  10634  N1    A 0 507       1.647 -10.690  -2.004     1     1\\nATOM  10635  C2    A 0 507       0.692 -10.836  -1.078     1     1\\nATOM  10636  N3    A 0 507      -0.461 -10.186  -0.948     1     1\\nATOM  10637  C4    A 0 507      -0.597  -9.271  -1.921     1     1\\nENDMDL\\n\",\"pdb\");\n",
       "\tviewergrid_1518362766543307[0][1].addModel(\"MODEL \\nREMARK 116_G_0_0 117_A_0_0 118_G_0_0 119_A_0_0\\nATOM   2282  O5'   G 0 116      -0.778  -2.685  -7.705     1     1\\nATOM   2283  C5'   G 0 116       0.428  -3.205  -8.267     1     1\\nATOM   2284  C4'   G 0 116       1.591  -2.375  -7.816     1     1\\nATOM   2285  O4'   G 0 116       1.356  -1.000  -8.205     1     1\\nATOM   2286  C3'   G 0 116       1.779  -2.322  -6.314     1     1\\nATOM   2287  O3'   G 0 116       2.573  -3.424  -5.913     1     1\\nATOM   2288  C2'   G 0 116       2.501  -0.996  -6.130     1     1\\nATOM   2289  O2'   G 0 116       3.865  -1.116  -6.489     1     1\\nATOM   2290  C1'   G 0 116       1.798  -0.129  -7.179     1     1\\nATOM   2291  N9    G 0 116       0.634   0.623  -6.715     1     1\\nATOM   2292  C8    G 0 116      -0.676   0.379  -7.045     1     1\\nATOM   2293  N7    G 0 116      -1.506   1.242  -6.530     1     1\\nATOM   2294  C5    G 0 116      -0.698   2.104  -5.805     1     1\\nATOM   2295  C6    G 0 116      -1.039   3.241  -5.038     1     1\\nATOM   2296  O6    G 0 116      -2.158   3.725  -4.836     1     1\\nATOM   2297  N1    G 0 116       0.082   3.826  -4.468     1     1\\nATOM   2298  C2    G 0 116       1.370   3.366  -4.607     1     1\\nATOM   2299  N2    G 0 116       2.321   4.058  -3.955     1     1\\nATOM   2300  N3    G 0 116       1.702   2.304  -5.325     1     1\\nATOM   2301  C4    G 0 116       0.625   1.727  -5.894     1     1\\nATOM   2302  P     A 0 117       2.483  -3.970  -4.412     1     1\\nATOM   2303  OP1   A 0 117       3.543  -5.000  -4.291     1     1\\nATOM   2304  OP2   A 0 117       1.080  -4.316  -4.099     1     1\\nATOM   2305  O5'   A 0 117       2.885  -2.723  -3.510     1     1\\nATOM   2306  C5'   A 0 117       4.266  -2.358  -3.333     1     1\\nATOM   2307  C4'   A 0 117       4.382  -1.243  -2.326     1     1\\nATOM   2308  O4'   A 0 117       3.747  -0.045  -2.849     1     1\\nATOM   2309  C3'   A 0 117       3.652  -1.477  -1.017     1     1\\nATOM   2310  O3'   A 0 117       4.361  -2.331  -0.133     1     1\\nATOM   2311  C2'   A 0 117       3.500  -0.061  -0.493     1     1\\nATOM   2312  O2'   A 0 117       4.716   0.431   0.035     1     1\\nATOM   2313  C1'   A 0 117       3.160   0.688  -1.783     1     1\\nATOM   2314  N9    A 0 117       1.719   0.781  -2.027     1     1\\nATOM   2315  C8    A 0 117       0.930  -0.070  -2.756     1     1\\nATOM   2316  N7    A 0 117      -0.336   0.279  -2.792     1     1\\nATOM   2317  C5    A 0 117      -0.383   1.439  -2.037     1     1\\nATOM   2318  C6    A 0 117      -1.441   2.303  -1.689     1     1\\nATOM   2319  N6    A 0 117      -2.707   2.136  -2.088     1     1\\nATOM   2320  N1    A 0 117      -1.151   3.362  -0.911     1     1\\nATOM   2321  C2    A 0 117       0.114   3.542  -0.520     1     1\\nATOM   2322  N3    A 0 117       1.193   2.811  -0.786     1     1\\nATOM   2323  C4    A 0 117       0.874   1.760  -1.557     1     1\\nATOM   2324  P     G 0 118       3.540  -3.287   0.869     1     1\\nATOM   2325  OP1   G 0 118       4.538  -4.186   1.498     1     1\\nATOM   2326  OP2   G 0 118       2.373  -3.862   0.157     1     1\\nATOM   2327  O5'   G 0 118       2.973  -2.293   1.976     1     1\\nATOM   2328  C5'   G 0 118       3.860  -1.687   2.913     1     1\\nATOM   2329  C4'   G 0 118       3.207  -0.505   3.575     1     1\\nATOM   2330  O4'   G 0 118       2.714   0.421   2.572     1     1\\nATOM   2331  C3'   G 0 118       1.968  -0.756   4.409     1     1\\nATOM   2332  O3'   G 0 118       2.279  -1.305   5.676     1     1\\nATOM   2333  C2'   G 0 118       1.431   0.659   4.545     1     1\\nATOM   2334  O2'   G 0 118       2.213   1.431   5.441     1     1\\nATOM   2335  C1'   G 0 118       1.643   1.184   3.123     1     1\\nATOM   2336  N9    G 0 118       0.439   0.981   2.318     1     1\\nATOM   2337  C8    G 0 118       0.244   0.073   1.304     1     1\\nATOM   2338  N7    G 0 118      -0.964   0.115   0.810     1     1\\nATOM   2339  C5    G 0 118      -1.599   1.116   1.531     1     1\\nATOM   2340  C6    G 0 118      -2.932   1.613   1.453     1     1\\nATOM   2341  O6    G 0 118      -3.849   1.255   0.714     1     1\\nATOM   2342  N1    G 0 118      -3.154   2.626   2.372     1     1\\nATOM   2343  C2    G 0 118      -2.225   3.100   3.261     1     1\\nATOM   2344  N2    G 0 118      -2.634   4.080   4.067     1     1\\nATOM   2345  N3    G 0 118      -0.991   2.646   3.351     1     1\\nATOM   2346  C4    G 0 118      -0.747   1.663   2.460     1     1\\nATOM   2347  P     A 0 119       1.167  -2.151   6.467     1     1\\nATOM   2348  OP1   A 0 119       1.795  -2.548   7.752     1     1\\nATOM   2349  OP2   A 0 119       0.609  -3.190   5.561     1     1\\nATOM   2350  O5'   A 0 119       0.002  -1.109   6.776     1     1\\nATOM   2351  C5'   A 0 119       0.151  -0.135   7.818     1     1\\nATOM   2352  C4'   A 0 119      -1.114   0.663   7.979     1     1\\nATOM   2353  O4'   A 0 119      -1.449   1.279   6.710     1     1\\nATOM   2354  C3'   A 0 119      -2.376  -0.099   8.355     1     1\\nATOM   2355  O3'   A 0 119      -2.408  -0.355   9.759     1     1\\nATOM   2356  C2'   A 0 119      -3.461   0.874   7.906     1     1\\nATOM   2357  O2'   A 0 119      -3.615   1.967   8.787     1     1\\nATOM   2358  C1'   A 0 119      -2.860   1.403   6.602     1     1\\nATOM   2359  N9    A 0 119      -3.301   0.642   5.433     1     1\\nATOM   2360  C8    A 0 119      -2.576  -0.248   4.682     1     1\\nATOM   2361  N7    A 0 119      -3.255  -0.782   3.698     1     1\\nATOM   2362  C5    A 0 119      -4.511  -0.209   3.810     1     1\\nATOM   2363  C6    A 0 119      -5.689  -0.372   3.068     1     1\\nATOM   2364  N6    A 0 119      -5.793  -1.189   2.021     1     1\\nATOM   2365  N1    A 0 119      -6.769   0.342   3.441     1     1\\nATOM   2366  C2    A 0 119      -6.662   1.164   4.496     1     1\\nATOM   2367  N3    A 0 119      -5.609   1.403   5.274     1     1\\nATOM   2368  C4    A 0 119      -4.553   0.675   4.870     1     1\\nENDMDL\\n\",\"pdb\");\n",
       "\tviewergrid_1518362766543307[1][0].addModel(\"MODEL \\nREMARK 1055_G_0_0 1056_U_0_0 1057_A_0_0 1058_A_0_0\\nATOM  21748  O5'   G 01055       4.075  -5.898  -2.178     1     1\\nATOM  21749  C5'   G 01055       4.871  -4.827  -2.711     1     1\\nATOM  21750  C4'   G 01055       4.141  -3.515  -2.556     1     1\\nATOM  21751  O4'   G 01055       2.933  -3.541  -3.361     1     1\\nATOM  21752  C3'   G 01055       3.635  -3.185  -1.159     1     1\\nATOM  21753  O3'   G 01055       4.639  -2.625  -0.324     1     1\\nATOM  21754  C2'   G 01055       2.527  -2.187  -1.451     1     1\\nATOM  21755  O2'   G 01055       3.011  -0.881  -1.706     1     1\\nATOM  21756  C1'   G 01055       1.908  -2.799  -2.711     1     1\\nATOM  21757  N9    G 01055       0.840  -3.721  -2.340     1     1\\nATOM  21758  C8    G 01055       0.928  -5.084  -2.195     1     1\\nATOM  21759  N7    G 01055      -0.173  -5.621  -1.746     1     1\\nATOM  21760  C5    G 01055      -1.045  -4.553  -1.607     1     1\\nATOM  21761  C6    G 01055      -2.376  -4.512  -1.130     1     1\\nATOM  21762  O6    G 01055      -3.065  -5.434  -0.687     1     1\\nATOM  21763  N1    G 01055      -2.895  -3.225  -1.180     1     1\\nATOM  21764  C2    G 01055      -2.216  -2.118  -1.611     1     1\\nATOM  21765  N2    G 01055      -2.897  -0.960  -1.593     1     1\\nATOM  21766  N3    G 01055      -0.966  -2.138  -2.030     1     1\\nATOM  21767  C4    G 01055      -0.446  -3.379  -2.003     1     1\\nATOM  21768  P     U 01056       4.909  -3.257   1.124     1     1\\nATOM  21769  OP1   U 01056       6.272  -2.869   1.558     1     1\\nATOM  21770  OP2   U 01056       4.549  -4.699   1.051     1     1\\nATOM  21771  O5'   U 01056       3.865  -2.537   2.082     1     1\\nATOM  21772  C5'   U 01056       3.533  -3.117   3.359     1     1\\nATOM  21773  C4'   U 01056       2.632  -2.196   4.138     1     1\\nATOM  21774  O4'   U 01056       3.348  -0.979   4.481     1     1\\nATOM  21775  C3'   U 01056       1.389  -1.716   3.404     1     1\\nATOM  21776  O3'   U 01056       0.342  -2.678   3.487     1     1\\nATOM  21777  C2'   U 01056       1.053  -0.438   4.164     1     1\\nATOM  21778  O2'   U 01056       0.419  -0.703   5.402     1     1\\nATOM  21779  C1'   U 01056       2.451   0.125   4.440     1     1\\nATOM  21780  N1    U 01056       2.925   1.096   3.433     1     1\\nATOM  21781  C2    U 01056       2.352   2.362   3.433     1     1\\nATOM  21782  O2    U 01056       1.459   2.691   4.194     1     1\\nATOM  21783  N3    U 01056       2.865   3.229   2.504     1     1\\nATOM  21784  C4    U 01056       3.869   2.978   1.592     1     1\\nATOM  21785  O4    U 01056       4.296   3.901   0.897     1     1\\nATOM  21786  C5    U 01056       4.391   1.650   1.631     1     1\\nATOM  21787  C6    U 01056       3.915   0.776   2.525     1     1\\nATOM  21788  P     A 01057      -0.586  -2.983   2.203     1     1\\nATOM  21789  OP1   A 01057      -1.523  -4.073   2.569     1     1\\nATOM  21790  OP2   A 01057       0.308  -3.154   1.041     1     1\\nATOM  21791  O5'   A 01057      -1.445  -1.654   1.986     1     1\\nATOM  21792  C5'   A 01057      -2.340  -1.171   3.006     1     1\\nATOM  21793  C4'   A 01057      -2.576   0.316   2.837     1     1\\nATOM  21794  O4'   A 01057      -1.290   0.979   2.759     1     1\\nATOM  21795  C3'   A 01057      -3.317   0.744   1.578     1     1\\nATOM  21796  O3'   A 01057      -4.724   0.716   1.848     1     1\\nATOM  21797  C2'   A 01057      -2.809   2.165   1.361     1     1\\nATOM  21798  O2'   A 01057      -3.469   3.094   2.193     1     1\\nATOM  21799  C1'   A 01057      -1.363   2.059   1.850     1     1\\nATOM  21800  N9    A 01057      -0.323   1.866   0.837     1     1\\nATOM  21801  C8    A 01057       0.208   0.673   0.409     1     1\\nATOM  21802  N7    A 01057       1.172   0.807  -0.464     1     1\\nATOM  21803  C5    A 01057       1.280   2.178  -0.634     1     1\\nATOM  21804  C6    A 01057       2.131   2.962  -1.428     1     1\\nATOM  21805  N6    A 01057       3.089   2.450  -2.216     1     1\\nATOM  21806  N1    A 01057       1.972   4.302  -1.382     1     1\\nATOM  21807  C2    A 01057       1.027   4.806  -0.583     1     1\\nATOM  21808  N3    A 01057       0.172   4.172   0.220     1     1\\nATOM  21809  C4    A 01057       0.353   2.844   0.147     1     1\\nATOM  21810  P     A 01058      -5.789   0.583   0.643     1     1\\nATOM  21811  OP1   A 01058      -7.125   0.575   1.290     1     1\\nATOM  21812  OP2   A 01058      -5.406  -0.537  -0.249     1     1\\nATOM  21813  O5'   A 01058      -5.649   1.952  -0.165     1     1\\nATOM  21814  C5'   A 01058      -6.286   3.169   0.304     1     1\\nATOM  21815  C4'   A 01058      -5.971   4.312  -0.634     1     1\\nATOM  21816  O4'   A 01058      -4.532   4.493  -0.671     1     1\\nATOM  21817  C3'   A 01058      -6.366   4.062  -2.082     1     1\\nATOM  21818  O3'   A 01058      -7.689   4.525  -2.351     1     1\\nATOM  21819  C2'   A 01058      -5.379   4.934  -2.847     1     1\\nATOM  21820  O2'   A 01058      -5.793   6.285  -2.882     1     1\\nATOM  21821  C1'   A 01058      -4.122   4.817  -1.984     1     1\\nATOM  21822  N9    A 01058      -3.164   3.804  -2.416     1     1\\nATOM  21823  C8    A 01058      -3.290   2.445  -2.311     1     1\\nATOM  21824  N7    A 01058      -2.248   1.783  -2.747     1     1\\nATOM  21825  C5    A 01058      -1.378   2.770  -3.172     1     1\\nATOM  21826  C6    A 01058      -0.099   2.713  -3.730     1     1\\nATOM  21827  N6    A 01058       0.554   1.572  -3.950     1     1\\nATOM  21828  N1    A 01058       0.500   3.881  -4.059     1     1\\nATOM  21829  C2    A 01058      -0.162   5.024  -3.832     1     1\\nATOM  21830  N3    A 01058      -1.373   5.207  -3.305     1     1\\nATOM  21831  C4    A 01058      -1.934   4.023  -2.990     1     1\\nENDMDL\\n\",\"pdb\");\n",
       "\tviewergrid_1518362766543307[1][1].addModel(\"MODEL \\nREMARK 1121_G_0_0 1122_U_0_0 1123_A_0_0 1124_A_0_0\\nATOM  23171  O5'   G 01121       3.248   0.737   6.037     1     1\\nATOM  23172  C5'   G 01121       2.926  -0.657   6.161     1     1\\nATOM  23173  C4'   G 01121       1.428  -0.850   6.165     1     1\\nATOM  23174  O4'   G 01121       0.850  -0.212   7.340     1     1\\nATOM  23175  C3'   G 01121       0.684  -0.205   5.012     1     1\\nATOM  23176  O3'   G 01121       0.738  -0.978   3.822     1     1\\nATOM  23177  C2'   G 01121      -0.723  -0.086   5.576     1     1\\nATOM  23178  O2'   G 01121      -1.395  -1.325   5.583     1     1\\nATOM  23179  C1'   G 01121      -0.423   0.340   7.013     1     1\\nATOM  23180  N9    G 01121      -0.333   1.795   7.111     1     1\\nATOM  23181  C8    G 01121       0.816   2.549   7.127     1     1\\nATOM  23182  N7    G 01121       0.586   3.834   7.182     1     1\\nATOM  23183  C5    G 01121      -0.797   3.938   7.212     1     1\\nATOM  23184  C6    G 01121      -1.627   5.081   7.269     1     1\\nATOM  23185  O6    G 01121      -1.297   6.274   7.301     1     1\\nATOM  23186  N1    G 01121      -2.969   4.738   7.280     1     1\\nATOM  23187  C2    G 01121      -3.457   3.465   7.233     1     1\\nATOM  23188  N2    G 01121      -4.799   3.351   7.238     1     1\\nATOM  23189  N3    G 01121      -2.695   2.382   7.183     1     1\\nATOM  23190  C4    G 01121      -1.383   2.691   7.176     1     1\\nATOM  23191  P     U 01122       0.568  -0.251   2.396     1     1\\nATOM  23192  OP1   U 01122       0.549  -1.304   1.338     1     1\\nATOM  23193  OP2   U 01122       1.554   0.845   2.324     1     1\\nATOM  23194  O5'   U 01122      -0.876   0.420   2.450     1     1\\nATOM  23195  C5'   U 01122      -2.062  -0.370   2.299     1     1\\nATOM  23196  C4'   U 01122      -3.276   0.524   2.229     1     1\\nATOM  23197  O4'   U 01122      -3.382   1.310   3.450     1     1\\nATOM  23198  C3'   U 01122      -3.270   1.591   1.148     1     1\\nATOM  23199  O3'   U 01122      -3.605   1.064  -0.131     1     1\\nATOM  23200  C2'   U 01122      -4.337   2.549   1.661     1     1\\nATOM  23201  O2'   U 01122      -5.649   2.080   1.411     1     1\\nATOM  23202  C1'   U 01122      -4.055   2.529   3.168     1     1\\nATOM  23203  N1    U 01122      -3.201   3.661   3.559     1     1\\nATOM  23204  C2    U 01122      -3.830   4.867   3.854     1     1\\nATOM  23205  O2    U 01122      -5.037   4.994   3.901     1     1\\nATOM  23206  N3    U 01122      -2.986   5.920   4.094     1     1\\nATOM  23207  C4    U 01122      -1.610   5.898   4.090     1     1\\nATOM  23208  O4    U 01122      -0.993   6.954   4.235     1     1\\nATOM  23209  C5    U 01122      -1.032   4.610   3.835     1     1\\nATOM  23210  C6    U 01122      -1.828   3.559   3.591     1     1\\nATOM  23211  P     A 01123      -2.992   1.734  -1.463     1     1\\nATOM  23212  OP1   A 01123      -3.132   3.213  -1.396     1     1\\nATOM  23213  OP2   A 01123      -3.585   0.985  -2.605     1     1\\nATOM  23214  O5'   A 01123      -1.436   1.394  -1.404     1     1\\nATOM  23215  C5'   A 01123      -0.971   0.034  -1.400     1     1\\nATOM  23216  C4'   A 01123       0.075  -0.162  -2.473     1     1\\nATOM  23217  O4'   A 01123       1.125   0.845  -2.345     1     1\\nATOM  23218  C3'   A 01123       0.784  -1.512  -2.442     1     1\\nATOM  23219  O3'   A 01123       1.152  -1.879  -3.770     1     1\\nATOM  23220  C2'   A 01123       2.040  -1.184  -1.645     1     1\\nATOM  23221  O2'   A 01123       3.096  -2.087  -1.861     1     1\\nATOM  23222  C1'   A 01123       2.375   0.205  -2.189     1     1\\nATOM  23223  N9    A 01123       3.220   1.048  -1.340     1     1\\nATOM  23224  C8    A 01123       3.604   0.843  -0.036     1     1\\nATOM  23225  N7    A 01123       4.355   1.802   0.453     1     1\\nATOM  23226  C5    A 01123       4.480   2.697  -0.599     1     1\\nATOM  23227  C6    A 01123       5.148   3.924  -0.717     1     1\\nATOM  23228  N6    A 01123       5.843   4.489   0.278     1     1\\nATOM  23229  N1    A 01123       5.075   4.567  -1.905     1     1\\nATOM  23230  C2    A 01123       4.370   4.008  -2.892     1     1\\nATOM  23231  N3    A 01123       3.697   2.861  -2.902     1     1\\nATOM  23232  C4    A 01123       3.792   2.245  -1.711     1     1\\nATOM  23233  P     A 01124       0.050  -2.487  -4.774     1     1\\nATOM  23234  OP1   A 01124       0.523  -2.150  -6.140     1     1\\nATOM  23235  OP2   A 01124      -1.316  -2.075  -4.348     1     1\\nATOM  23236  O5'   A 01124       0.130  -4.059  -4.552     1     1\\nATOM  23237  C5'   A 01124       1.337  -4.765  -4.794     1     1\\nATOM  23238  C4'   A 01124       1.047  -6.211  -5.087     1     1\\nATOM  23239  O4'   A 01124      -0.239  -6.369  -5.741     1     1\\nATOM  23240  C3'   A 01124       2.066  -6.781  -6.048     1     1\\nATOM  23241  O3'   A 01124       3.194  -7.237  -5.332     1     1\\nATOM  23242  C2'   A 01124       1.279  -7.845  -6.795     1     1\\nATOM  23243  O2'   A 01124       1.141  -9.038  -6.062     1     1\\nATOM  23244  C1'   A 01124      -0.088  -7.168  -6.903     1     1\\nATOM  23245  N9    A 01124      -0.251  -6.295  -8.072     1     1\\nATOM  23246  C8    A 01124      -0.621  -4.966  -8.077     1     1\\nATOM  23247  N7    A 01124      -0.712  -4.447  -9.274     1     1\\nATOM  23248  C5    A 01124      -0.371  -5.493 -10.118     1     1\\nATOM  23249  C6    A 01124      -0.275  -5.582 -11.511     1     1\\nATOM  23250  N6    A 01124      -0.502  -4.557 -12.332     1     1\\nATOM  23251  N1    A 01124       0.076  -6.774 -12.041     1     1\\nATOM  23252  C2    A 01124       0.324  -7.798 -11.214     1     1\\nATOM  23253  N3    A 01124       0.274  -7.836  -9.886     1     1\\nATOM  23254  C4    A 01124      -0.085  -6.638  -9.393     1     1\\nENDMDL\\n\",\"pdb\");\n",
       "\tviewergrid_1518362766543307[0][0].setStyle({\"stick\": {}});\n",
       "\tviewergrid_1518362766543307[0][1].setStyle({\"stick\": {}});\n",
       "\tviewergrid_1518362766543307[1][0].setStyle({\"stick\": {}});\n",
       "\tviewergrid_1518362766543307[1][1].setStyle({\"stick\": {}});\n",
       "\tviewergrid_1518362766543307[0][0].setBackgroundColor(\"0xeeeeee\");\n",
       "\tviewergrid_1518362766543307[0][1].setBackgroundColor(\"0xeeeeee\");\n",
       "\tviewergrid_1518362766543307[1][0].setBackgroundColor(\"0xeeeeee\");\n",
       "\tviewergrid_1518362766543307[1][1].setBackgroundColor(\"0xeeeeee\");\n",
       "\tviewergrid_1518362766543307[0][0].zoomTo();\n",
       "\tviewergrid_1518362766543307[0][1].zoomTo();\n",
       "\tviewergrid_1518362766543307[1][0].zoomTo();\n",
       "\tviewergrid_1518362766543307[1][1].zoomTo();\n",
       "viewergrid_1518362766543307[1][1].render();\n",
       "viewergrid_1518362766543307[1][0].render();\n",
       "viewergrid_1518362766543307[0][1].render();\n",
       "viewergrid_1518362766543307[0][0].render();\n",
       "});\n",
       "</script>"
      ],
      "text/plain": [
       "<IPython.core.display.HTML object>"
      ]
     },
     "execution_count": 8,
     "metadata": {},
     "output_type": "execute_result"
    }
   ],
   "source": [
    "import py3Dmol\n",
    "\n",
    "cluster_0 = open(flist[center_idx[0]],'r').read()\n",
    "cluster_1 = open(flist[center_idx[1]],'r').read()\n",
    "cluster_2 = open(flist[center_idx[2]],'r').read()\n",
    "cluster_3 = open(flist[center_idx[3]],'r').read()\n",
    "\n",
    "p = py3Dmol.view(width=900,height=600,viewergrid=(2,2))\n",
    "#p = py3Dmol.view(width=900,height=600)\n",
    "#p.addModel(query_s,'pdb')\n",
    "p.addModel(cluster_0,'pdb',viewer=(0,0))\n",
    "p.addModel(cluster_1,'pdb',viewer=(0,1))\n",
    "p.addModel(cluster_2,'pdb',viewer=(1,0))\n",
    "p.addModel(cluster_3,'pdb',viewer=(1,1))\n",
    "\n",
    "\n",
    "#p.addModel(hit_0,'pdb',viewer=(0,1))\n",
    "p.setStyle({'stick':{}})\n",
    "p.setBackgroundColor('0xeeeeee')\n",
    "p.zoomTo()\n",
    "p.show()"
   ]
  },
  {
   "cell_type": "markdown",
   "metadata": {},
   "source": [
    "It is interesting to observe that cluster 0 and 1 (in close proximity in the PCA projection), correspond to A-form-like structures. Cluster 2 corresponds to the classic GNRA fold. "
   ]
  }
 ],
 "metadata": {
  "kernelspec": {
   "display_name": "Python [conda root]",
   "language": "python",
   "name": "conda-root-py"
  },
  "language_info": {
   "codemirror_mode": {
    "name": "ipython",
    "version": 2
   },
   "file_extension": ".py",
   "mimetype": "text/x-python",
   "name": "python",
   "nbconvert_exporter": "python",
   "pygments_lexer": "ipython2",
   "version": "2.7.13"
  }
 },
 "nbformat": 4,
 "nbformat_minor": 2
}
