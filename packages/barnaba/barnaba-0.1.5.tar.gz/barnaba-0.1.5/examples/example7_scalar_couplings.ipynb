{
 "cells": [
  {
   "cell_type": "code",
   "execution_count": 1,
   "metadata": {},
   "outputs": [
    {
     "data": {
      "application/javascript": [
       "IPython.notebook.set_autosave_interval(0)"
      ]
     },
     "metadata": {},
     "output_type": "display_data"
    },
    {
     "name": "stdout",
     "output_type": "stream",
     "text": [
      "Autosave disabled\n"
     ]
    }
   ],
   "source": [
    "%autosave 0\n",
    "from __future__ import print_function"
   ]
  },
  {
   "cell_type": "markdown",
   "metadata": {},
   "source": [
    "## Example 5: Calculate 3J scalar couplings\n",
    "\n",
    "We here calculate 3J scalar couplings for a trajectory\n",
    "The following couplings can be calculated:\n",
    "\n",
    "**In the sugar:**  \n",
    "- H1H2. function of torsion angle H1'-C1'-C2'-H2'\n",
    "- H2H3. function of torsion angle H2'-C2'-C3'-H3'\n",
    "- H3H4. function of torsion angle H3'-C3'-C4'-H4'  \n",
    "\n",
    "**In the backbone:**  \n",
    "- 1H5P, 2H5P, C4Pb. Function of beta torsion angle\n",
    "- 1H5H4,2H5H4. Function of gamma torsion angle\n",
    "- H3P,C4Pe. Function of epsilon torsion angle  \n",
    "\n",
    "**In the nucleobase:**  \n",
    "- H1C2/4, H1C6/8 function of chi torsion angle  \n",
    "\n",
    "by default, all scalar couplings for all residues are calculated. \n",
    "\n",
    "This means that the output of the  jcoupling function is a n x m x 12 array, \n",
    "where  \n",
    "n = # of frames  \n",
    "m = # of nucleobases  \n",
    "12 = total number of couplings  \n",
    "\n",
    "rr is the list of residue names  \n",
    "\n",
    "**ATT!**\n",
    "it is important that the atom names follow the amber naming conventions. Other names may not be recognized!"
   ]
  },
  {
   "cell_type": "code",
   "execution_count": 2,
   "metadata": {},
   "outputs": [
    {
     "name": "stderr",
     "output_type": "stream",
     "text": [
      "# Loading ../test/data/samples.xtc \n"
     ]
    },
    {
     "name": "stdout",
     "output_type": "stream",
     "text": [
      "(101, 71, 12)\n"
     ]
    }
   ],
   "source": [
    "%matplotlib inline\n",
    "import matplotlib.pyplot as plt\n",
    "import numpy as np\n",
    "\n",
    "# import barnaba\n",
    "import barnaba as bb\n",
    "\n",
    "# define trajectory and topology files\n",
    "traj = \"../test/data/samples.xtc\"\n",
    "top = \"../test/data/sample1.pdb\"\n",
    "\n",
    "\n",
    "couplings,rr = bb.jcouplings(traj,topology=top)\n",
    "print(couplings.shape)"
   ]
  },
  {
   "cell_type": "markdown",
   "metadata": {},
   "source": [
    "We now print only the couplings relative to the first residue of the first frame"
   ]
  },
  {
   "cell_type": "code",
   "execution_count": 5,
   "metadata": {},
   "outputs": [
    {
     "name": "stdout",
     "output_type": "stream",
     "text": [
      "      H1H2      0.4028 Hz\n",
      "       H2H3      4.7901 Hz\n",
      "       H3H4     10.1837 Hz\n",
      "       1H5P         nan Hz\n",
      "       2H5P         nan Hz\n",
      "       C4Pb         nan Hz\n",
      "      1H5H4      8.7789 Hz\n",
      "      2H5H4      0.0109 Hz\n",
      "        H3P      4.1050 Hz\n",
      "       C4Pe     10.7100 Hz\n",
      "     H1C2/4      0.4799 Hz\n",
      "     H1C6/8      2.2005 Hz\n",
      " \n",
      "\n",
      "\n"
     ]
    }
   ],
   "source": [
    "from barnaba import definitions\n",
    "for e in range(1):\n",
    "    stri = \"\"\n",
    "    for k in range(1):\n",
    "        for l in range(couplings.shape[2]):\n",
    "            stri += \"%10s \" %  list(definitions.couplings_idx.keys())[l]\n",
    "            stri += \" %10.4f Hz\\n \" % couplings[e,k,l]\n",
    "        stri += \"\\n\"\n",
    "stri += \"\\n\"\n",
    "print(stri)    "
   ]
  },
  {
   "cell_type": "markdown",
   "metadata": {
    "collapsed": true
   },
   "source": [
    "But we can also plot the histogram of the H1H2 couplings for all frames"
   ]
  },
  {
   "cell_type": "code",
   "execution_count": 6,
   "metadata": {},
   "outputs": [
    {
     "data": {
      "text/plain": [
       "<matplotlib.text.Text at 0x613385d68>"
      ]
     },
     "execution_count": 6,
     "metadata": {},
     "output_type": "execute_result"
    },
    {
     "data": {
      "image/png": "[encoded data removed]",
      "text/plain": [
       "<matplotlib.figure.Figure at 0x61338b9b0>"
      ]
     },
     "metadata": {},
     "output_type": "display_data"
    }
   ],
   "source": [
    "plt.hist(couplings[:,0,0],bins=20,normed=True)\n",
    "plt.xlabel(\"H1H2 coupling, residue %s (Hz)\" % rr[0])"
   ]
  },
  {
   "cell_type": "markdown",
   "metadata": {},
   "source": [
    "If the keyword raw=True, the torsion angle is written instead of the coupling.  \n",
    "It is also possible to specify the name of the residue(s), if we are interested at selected nucleotides.\n",
    "for example\n",
    "```python\n",
    "angles,rr = bb.jcouplings(traj,topology=top,raw=True,residues=[\"RC5_1_0\"])\n",
    "```\n",
    "returns the angles in radians for all frames of the residue RC3_1_0. The naming convention is RESNAME_RESNUMBER_CHAININDEX. Note that the shape of the array angles is n x m x 6, where  \n",
    "n = # number of frames  \n",
    "m = # number of residues in the list (in this specific example m=1)  \n",
    "6 = number of torsion angles that are needed for the couplings calculations (H1'-H2',H2'-H3',H3'-H4',beta,gamma,epsilon,chi )\n",
    "\n",
    "\n"
   ]
  },
  {
   "cell_type": "code",
   "execution_count": 7,
   "metadata": {},
   "outputs": [
    {
     "name": "stderr",
     "output_type": "stream",
     "text": [
      "# Loading ../test/data/samples.xtc \n"
     ]
    },
    {
     "name": "stdout",
     "output_type": "stream",
     "text": [
      "(101, 1, 7)\n"
     ]
    },
    {
     "data": {
      "text/plain": [
       "<matplotlib.text.Text at 0x616a636a0>"
      ]
     },
     "execution_count": 7,
     "metadata": {},
     "output_type": "execute_result"
    },
    {
     "data": {
      "image/png": "[encoded data removed]",
      "text/plain": [
       "<matplotlib.figure.Figure at 0x106f63be0>"
      ]
     },
     "metadata": {},
     "output_type": "display_data"
    }
   ],
   "source": [
    "angles,rr = bb.jcouplings(traj,topology=top,residues=[\"RC5_1_0\"],raw=True)\n",
    "print(angles.shape)\n",
    "\n",
    "plt.hist(angles[:,0,0],bins=20,normed=True)\n",
    "plt.xlabel(\"H1'-C1'-C2'-H2' angle, residue %s (rad)\" % rr[0])\n",
    "\n"
   ]
  }
 ],
 "metadata": {
  "kernelspec": {
   "display_name": "Python 3",
   "language": "python",
   "name": "python3"
  },
  "language_info": {
   "codemirror_mode": {
    "name": "ipython",
    "version": 3
   },
   "file_extension": ".py",
   "mimetype": "text/x-python",
   "name": "python",
   "nbconvert_exporter": "python",
   "pygments_lexer": "ipython3",
   "version": "3.6.1"
  }
 },
 "nbformat": 4,
 "nbformat_minor": 2
}
