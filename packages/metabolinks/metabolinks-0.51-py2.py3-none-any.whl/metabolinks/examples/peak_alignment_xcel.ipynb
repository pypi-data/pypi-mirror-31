{
 "cells": [
  {
   "cell_type": "code",
   "execution_count": null,
   "metadata": {},
   "outputs": [],
   "source": [
    "from metabolinks import align_spectra_in_excel\n",
    "ppmtol = 1.0\n",
    "min_samples = 1\n",
    "        \n",
    "fname = '../data/data_to_align.xlsx'\n",
    "out_fname = '../data/aligned_data.xlsx'\n",
    "    \n",
    "header_row = 2\n",
    "sample_names = ['S1', 'S2', 'S3']"
   ]
  },
  {
   "cell_type": "code",
   "execution_count": null,
   "metadata": {},
   "outputs": [],
   "source": [
    "results = align_spectra_in_excel(fname, save_to_excel=out_fname,\n",
    "                                 header_row=header_row,\n",
    "                                 ppmtol=ppmtol, min_samples=min_samples,\n",
    "                                 sample_names=sample_names)"
   ]
  },
  {
   "cell_type": "code",
   "execution_count": null,
   "metadata": {},
   "outputs": [],
   "source": []
  }
 ],
 "metadata": {
  "anaconda-cloud": {},
  "kernelspec": {
   "display_name": "Python 3",
   "language": "python",
   "name": "python3"
  },
  "language_info": {
   "codemirror_mode": {
    "name": "ipython",
    "version": 3
   },
   "file_extension": ".py",
   "mimetype": "text/x-python",
   "name": "python",
   "nbconvert_exporter": "python",
   "pygments_lexer": "ipython3",
   "version": "3.6.4"
  }
 },
 "nbformat": 4,
 "nbformat_minor": 1
}
