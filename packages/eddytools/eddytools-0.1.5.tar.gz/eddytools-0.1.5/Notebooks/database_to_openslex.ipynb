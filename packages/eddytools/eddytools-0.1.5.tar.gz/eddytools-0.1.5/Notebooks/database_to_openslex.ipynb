{
 "cells": [
  {
   "cell_type": "code",
   "execution_count": null,
   "metadata": {},
   "outputs": [],
   "source": [
    "# Introduction\n",
    "In this notebook, it is demonstrated how data from a database can be inserted into the OpenSLEX metamodel. First, all necessary methods for the insertions are defined. Then the methods are invoked to insert the data. Finally, test queries are written and executed to test the results."
   ]
  },
  {
   "cell_type": "code",
   "execution_count": null,
   "metadata": {},
   "outputs": [],
   "source": [
    "# Imports"
   ]
  },
  {
   "cell_type": "code",
   "execution_count": 1,
   "metadata": {},
   "outputs": [],
   "source": [
    "import os\n",
    "import time\n",
    "import sqlite3\n",
    "import getpass\n",
    "\n",
    "# SQLAlchemy imports\n",
    "from sqlalchemy import create_engine\n",
    "from sqlalchemy.schema import MetaData\n",
    "from sqlalchemy.sql import *\n",
    "from sqlalchemy.schema import UniqueConstraint\n",
    "from sqlalchemy.ext.automap import automap_base\n",
    "from sqlalchemy import types"
   ]
  },
  {
   "cell_type": "markdown",
   "metadata": {},
   "source": [
    "# Define parameters"
   ]
  },
  {
   "cell_type": "code",
   "execution_count": 2,
   "metadata": {},
   "outputs": [],
   "source": [
    "# define parameters\n",
    "# source db parameters\n",
    "project_name = 'mimic_demo'\n",
    "dialect = 'postgresql'\n",
    "username = 'postgres'\n",
    "host = 'localhost'\n",
    "port = '5432'\n",
    "database = 'mimic_demo'\n",
    "schema = 'mimiciii'\n",
    "dm_name = '{database}.{schema}'.format(database=database, schema=schema)\n",
    "\n",
    "# OpenSLEX parameters\n",
    "openslex_script_path = '../OpenSLEX/sql/metamodel.sql'\n",
    "openslex_file_path = '../OpenSLEX/data/{project_name}.slexmm'.format(project_name=project_name)\n",
    "\n"
   ]
  },
  {
   "cell_type": "code",
   "execution_count": 3,
   "metadata": {},
   "outputs": [],
   "source": [
    "password = getpass.getpass()"
   ]
  },
  {
   "cell_type": "markdown",
   "metadata": {},
   "source": [
    "# Connect to the metamodel"
   ]
  },
  {
   "cell_type": "code",
   "execution_count": 4,
   "metadata": {},
   "outputs": [],
   "source": [
    "# create a SQLite database file for the OpenSLEX mm and run the script to create all tables\n",
    "def create_mm(mm_file_path, mm_script_path):\n",
    "    is_success = False\n",
    "    \n",
    "    # check if file already exists\n",
    "    if (os.path.exists(openslex_file_path)):\n",
    "        cont = input('OpenSLEX MM already exists. Do you want to remove the existing MM and create a new? [y/n]')\n",
    "        while cont != 'y':\n",
    "            if cont == 'n':\n",
    "                print('OpenSLEX MM not created')\n",
    "                return\n",
    "            else:\n",
    "                cont = input('Input invalid. \\nMM already exists. Do you want to remove the existing MM and create a new? [y/n]')\n",
    "        try:\n",
    "            print(\"Removing OpenSLEX MM\")\n",
    "            os.remove(openslex_file_path)\n",
    "        except Exception as e:\n",
    "            raise\n",
    "    \n",
    "    # if directory doesn't exist, create directory\n",
    "    openslex_dir = os.path.dirname(openslex_file_path)\n",
    "    if not os.path.exists(openslex_dir):\n",
    "        os.makedirs(openslex_dir)\n",
    "    \n",
    "    is_connected = False\n",
    "    \n",
    "    try:\n",
    "        print(\"Opening OpenSLEX MM\")\n",
    "        conn = sqlite3.connect(openslex_file_path)\n",
    "        is_connected = True\n",
    "        cursor = conn.cursor()\n",
    "        \n",
    "        print(\"Reading script\")\n",
    "        script_file = open(openslex_script_path)\n",
    "        script = script_file.read()\n",
    "        script_file.close()\n",
    "        \n",
    "        print(\"Running script\")\n",
    "        cursor.executescript(script)\n",
    "        conn.commit()\n",
    "        conn.close()\n",
    "        is_connected = False\n",
    "        print(\"OpenSLEX MM succesfully created\")\n",
    "\n",
    "        \n",
    "    except Exception as e:\n",
    "        if is_connected:\n",
    "            print(\"Closing DB\")\n",
    "            conn.close()\n",
    "            is_connected = False\n",
    "        raise\n"
   ]
  },
  {
   "cell_type": "code",
   "execution_count": 5,
   "metadata": {},
   "outputs": [],
   "source": [
    "# create engine for the OpenSLEX mm using SQLAlchemy\n",
    "def create_mm_engine(openslex_file_path):\n",
    "    print(\"Creating OpenSLEX MM engine\")\n",
    "    mm_url = 'sqlite:///{path}'.format(path=openslex_file_path)\n",
    "    engine = create_engine(mm_url)\n",
    "    print(\"OpenSLEX MM engine created\")\n",
    "    return engine"
   ]
  },
  {
   "cell_type": "markdown",
   "metadata": {},
   "source": [
    "# Connect to the source database"
   ]
  },
  {
   "cell_type": "code",
   "execution_count": 6,
   "metadata": {},
   "outputs": [],
   "source": [
    "# create engine for the source database using SQLAlchemy\n",
    "def create_db_engine(dialect, username, password, host, port, database):\n",
    "    print(\"Creating DB engine\")\n",
    "    db_url = '{dialect}://{username}:{password}@{host}:{port}/{database}'.format(\n",
    "        dialect = dialect,\n",
    "        username = username,\n",
    "        password = password,\n",
    "        host = host,\n",
    "        port = port,\n",
    "        database = database\n",
    "    )\n",
    "    engine = create_engine(db_url)\n",
    "    print(\"DB engine created\")\n",
    "    return engine"
   ]
  },
  {
   "cell_type": "markdown",
   "metadata": {},
   "source": [
    "# From database to metamodel"
   ]
  },
  {
   "cell_type": "markdown",
   "metadata": {},
   "source": [
    "## Load the data model into the metamodel"
   ]
  },
  {
   "cell_type": "code",
   "execution_count": 7,
   "metadata": {},
   "outputs": [],
   "source": [
    "# automap the source database into a SQLAlchemy Base object\n",
    "def automap_db(db_engine, schema):\n",
    "    print(\"Automapping DB\")\n",
    "    Base = automap_base()\n",
    "    Base.metadata.schema = schema\n",
    "    Base.prepare(db_engine, reflect=True)\n",
    "    print(\"Automap finished\")\n",
    "    return Base, Base.metadata"
   ]
  },
  {
   "cell_type": "code",
   "execution_count": 8,
   "metadata": {},
   "outputs": [],
   "source": [
    "# reflect the metadata of the OpenSLEX mm into a SQLAlchemy MetaData object\n",
    "def get_mm_meta(mm_engine):\n",
    "    print(\"Obtaining MM metadata\")\n",
    "    mm_meta = MetaData()\n",
    "    mm_meta.reflect(bind=mm_engine)\n",
    "    print(\"MM metadata obtained\")\n",
    "    return mm_meta"
   ]
  },
  {
   "cell_type": "code",
   "execution_count": 9,
   "metadata": {},
   "outputs": [],
   "source": [
    "# insert values into table t using conn\n",
    "def insert_values(conn, t, values):\n",
    "    trans = conn.begin()\n",
    "    try:\n",
    "        q = t.insert().values(values)\n",
    "        res = conn.execute(q)\n",
    "        trans.commit()\n",
    "    except:\n",
    "        trans.rollback()\n",
    "        raise\n",
    "    \n",
    "    return res\n"
   ]
  },
  {
   "cell_type": "code",
   "execution_count": 10,
   "metadata": {},
   "outputs": [],
   "source": [
    "# get the data type of a column (integer, string, boolean, numeric, timestamp)\n",
    "def get_data_type(col):\n",
    "    if isinstance(col.type, types.Integer):\n",
    "        return 'integer'\n",
    "    elif isinstance(col.type, types.String):\n",
    "        return 'string'\n",
    "    elif isinstance(col.type, types.Boolean):\n",
    "        return 'boolean'\n",
    "    elif isinstance(col.type, types.Numeric):\n",
    "        return 'numeric'\n",
    "    elif isinstance(col.type, (types.Date, types.DateTime, types.Time)):\n",
    "        return 'timestamp'"
   ]
  },
  {
   "cell_type": "code",
   "execution_count": 11,
   "metadata": {},
   "outputs": [],
   "source": [
    "'''\n",
    "insert the metadata of the source database (classes, attributes and relationships) into the OpenSLEX mm\n",
    "returns:\n",
    "class_map: mapping class_name --> class_id in the OpenSLEX mm\n",
    "attr_map: mapping (class_name, attribute_name) --> attribute_id in the OpenSLEX mm\n",
    "rel_map: mapping (class_name, relationship_name) --> relationship_id in the OpenSLEX mm\n",
    "'''\n",
    "def insert_metadata(mm_conn, mm_meta, Base, db_meta, dm_name):\n",
    "    \n",
    "    class_map = dict()\n",
    "    attr_map = dict()\n",
    "    rel_map = dict()\n",
    "    \n",
    "    trans = mm_conn.begin()\n",
    "    try:\n",
    "\n",
    "        dm_table = mm_meta.tables.get('datamodel')\n",
    "        dm_values = {'name': dm_name}\n",
    "        res_ins_dm = insert_values(mm_conn, dm_table, dm_values)\n",
    "        dm_id = res_ins_dm.inserted_primary_key[0]\n",
    "        db_classes = Base.classes.keys()\n",
    "        for c in db_classes:\n",
    "            class_table = mm_meta.tables.get('class')\n",
    "            class_values = {'datamodel_id': dm_id, 'name': c}\n",
    "            res_ins_class = insert_values(mm_conn, class_table, class_values)\n",
    "            class_id = res_ins_class.inserted_primary_key[0]\n",
    "            class_map[c] = class_id\n",
    "\n",
    "            attrs = db_meta.tables.get('{schema}.{c}'.format(schema=db_meta.schema, c=c)).c\n",
    "            for attr in attrs:\n",
    "                if get_data_type(attr):\n",
    "                    attr_table = mm_meta.tables.get('attribute_name')\n",
    "                    attr_values = {'class_id': class_id, 'name': attr.name, 'type': get_data_type(attr)}\n",
    "                    res_ins_col = insert_values(mm_conn, attr_table, attr_values)\n",
    "                    attr_id = res_ins_col.inserted_primary_key[0]\n",
    "                    attr_map[(c, attr.name)] = attr_id\n",
    "\n",
    "        for c in db_classes:\n",
    "            fkcs = db_meta.tables.get('{schema}.{c}'.format(schema=db_meta.schema,c=c)).\\\n",
    "                foreign_key_constraints\n",
    "            for fkc in fkcs:\n",
    "                rel_table = mm_meta.tables.get('relationship')\n",
    "                rel_values = {'source': class_map[c],\n",
    "                              'target': class_map[fkc.referred_table.name],\n",
    "                              'name': fkc.name}\n",
    "                res_ins_rel = insert_values(mm_conn, rel_table, rel_values)\n",
    "                rel_id = res_ins_rel.inserted_primary_key[0]\n",
    "                rel_map[(c, fkc.name)] = rel_id\n",
    "\n",
    "        trans.commit()\n",
    "        print('transaction committed')\n",
    "    except:\n",
    "        trans.rollback()\n",
    "        print('transaction rolled back')\n",
    "        raise\n",
    "\n",
    "    return class_map, attr_map, rel_map"
   ]
  },
  {
   "cell_type": "code",
   "execution_count": 12,
   "metadata": {},
   "outputs": [],
   "source": [
    "# insert object, object version, object attribute values into the OpenSLEX mm for one object in the source db\n",
    "def insert_object(mm_conn, obj, source_table, class_name, class_map, attr_map, rel_map, obj_v_map):\n",
    "    \n",
    "    trans = mm_conn.begin()\n",
    "    try:\n",
    "        # insert into object table\n",
    "        obj_table = mm_meta.tables.get('object')\n",
    "        obj_values = {'class_id': class_map[class_name]}\n",
    "        res_ins_obj = insert_values(mm_conn, obj_table, obj_values)\n",
    "        obj_id = res_ins_obj.inserted_primary_key[0]\n",
    "        \n",
    "        # insert into object_version table\n",
    "        obj_v_table = mm_meta.tables.get('object_version')\n",
    "        obj_v_values = {'object_id': obj_id, 'start_timestamp': -2, 'end_timestamp': -1}\n",
    "        res_ins_obj_v = insert_values(mm_conn, obj_v_table, obj_v_values)\n",
    "        obj_v_id = res_ins_obj_v.inserted_primary_key[0]\n",
    "        pk_tuple = tuple(col.name for col in source_table.primary_key.columns)\n",
    "        pk_values_tuple = tuple(obj[col] for col in pk_tuple)\n",
    "        obj_v_map[(class_name, pk_tuple, pk_values_tuple)] = obj_v_id\n",
    "        \n",
    "        unique_constraints = [uc for uc in source_table.constraints if isinstance(uc, UniqueConstraint)]\n",
    "        for uc in unique_constraints:\n",
    "            unique_tuple = tuple(col.name for col in uc)\n",
    "            unique_values_tuple = tuple(obj[col] for col in unique_tuple)\n",
    "            obj_v_map[(class_name, unique_tuple, unique_values_tuple)] = obj_v_id\n",
    "        \n",
    "        # insert into attribute_value table\n",
    "        attr_v_table = mm_meta.tables.get('attribute_value')\n",
    "        \n",
    "        attr_v_values = [{'object_version_id': obj_v_id,\n",
    "                          'attribute_name_id': attr_map[(class_name, attr[0])],\n",
    "                          'value': str(attr[1])\n",
    "                         } for attr in obj.items() if ((class_name, attr[0] in attr_map.keys()) and attr[1])]\n",
    "        res_ins_attr_v = insert_values(mm_conn, attr_v_table, attr_v_values)\n",
    "        \n",
    "        trans.commit()\n",
    "    except:\n",
    "        trans.rollback()\n",
    "        raise\n",
    "        "
   ]
  },
  {
   "cell_type": "code",
   "execution_count": 13,
   "metadata": {},
   "outputs": [],
   "source": [
    "# insert all objects of one class into the OpenSLEX mm\n",
    "def insert_class_objects(mm_conn, mm_meta, db_conn, db_meta, class_name, class_map, attr_map, rel_map, obj_v_map):\n",
    "    print(\"inserting objects for class '{c}'\".format(c=class_name))\n",
    "    t1 = time.time()\n",
    "    trans = mm_conn.begin()\n",
    "    try:\n",
    "        source_table = db_meta.tables.get('{s}.{c}'.format(s=db_meta.schema,c=class_name))\n",
    "        objs = db_conn.execute(source_table.select())\n",
    "        for obj in objs:\n",
    "            insert_object(mm_conn, obj, source_table, class_name, class_map, attr_map, rel_map, obj_v_map)\n",
    "        trans.commit()\n",
    "    except:\n",
    "        trans.rollback()\n",
    "        raise\n",
    "    print(\"objects for class '{c}' inserted\".format(c=class_name))\n",
    "    t2 = time.time()\n",
    "    time_diff = t2-t1\n",
    "    print('time elapsed: {time_diff} seconds'.format(time_diff=time_diff))\n"
   ]
  },
  {
   "cell_type": "code",
   "execution_count": 14,
   "metadata": {},
   "outputs": [],
   "source": [
    "# insert the relations of one object into the OpenSLEX mm\n",
    "def insert_object_relations(mm_conn, mm_meta, obj, source_table, class_name, rel_map, obj_v_map):\n",
    "    \n",
    "    trans = mm_conn.begin()\n",
    "    try:\n",
    "        rel_table = mm_meta.tables.get('relation')\n",
    "        for fkc in source_table.foreign_key_constraints:\n",
    "            target_obj_v_params = (\n",
    "                fkc.referred_table.name,\n",
    "                tuple(fk.column.name for fk in fkc.elements),\n",
    "                tuple(obj[col] for col in fkc.columns)\n",
    "            )\n",
    "            if target_obj_v_params in obj_v_map.keys():\n",
    "                target_obj_v_id = obj_v_map[target_obj_v_params]\n",
    "                source_obj_v_id = obj_v_map[(\n",
    "                    source_table.name,\n",
    "                    tuple(col.name for col in source_table.primary_key.columns),\n",
    "                    tuple(obj[col] for col in source_table.primary_key.columns)\n",
    "                )]\n",
    "                rel_value = [{\n",
    "                    'source_object_version_id': source_obj_v_id,\n",
    "                    'target_object_version_id': target_obj_v_id,\n",
    "                    'relationship_id': rel_map[(class_name, fkc.name)],\n",
    "                    'start_timestamp': -2,\n",
    "                    'end_timestamp': -1\n",
    "                }]\n",
    "                res_ins_rel = insert_values(mm_conn, rel_table, rel_value)\n",
    "        \n",
    "        trans.commit()\n",
    "    except:\n",
    "        trans.rollback()\n",
    "        raise"
   ]
  },
  {
   "cell_type": "code",
   "execution_count": 15,
   "metadata": {},
   "outputs": [],
   "source": [
    "# insert the relations of all objects of one class into the OpenSLEX mm\n",
    "def insert_class_relations(mm_conn, mm_meta, db_conn, db_meta, class_name, rel_map, obj_v_map):\n",
    "    print(\"inserting relations for class '{c}'\".format(c=class_name))\n",
    "    t1 = time.time()\n",
    "    trans = mm_conn.begin()\n",
    "    try:\n",
    "        source_table = db_meta.tables.get('{s}.{c}'.format(s=db_meta.schema,c=class_name))\n",
    "        objs = db_conn.execute(source_table.select())\n",
    "        for obj in objs:\n",
    "            insert_object_relations(mm_conn, mm_meta, obj, source_table, class_name, rel_map, obj_v_map)\n",
    "        trans.commit()\n",
    "    except:\n",
    "        trans.rollback()\n",
    "        raise\n",
    "    print(\"relations for class '{c}' inserted\".format(c=class_name))\n",
    "    t2 = time.time()\n",
    "    time_diff = t2-t1\n",
    "    print('time elapsed: {time_diff} seconds'.format(time_diff=time_diff))"
   ]
  },
  {
   "cell_type": "code",
   "execution_count": 16,
   "metadata": {},
   "outputs": [],
   "source": [
    "# insert the objects of all classes of the source db into the OpenSLEX mm\n",
    "def insert_objects(mm_conn, mm_meta, db_conn, db_meta, classes, class_map, attr_map, rel_map):\n",
    "    \n",
    "    obj_v_map = dict()\n",
    "    for class_name in classes:\n",
    "        insert_class_objects(mm_conn, mm_meta, db_conn, db_meta, class_name, \n",
    "                             class_map, attr_map, rel_map, obj_v_map)\n",
    "    \n",
    "    for class_name in classes:\n",
    "        insert_class_relations(mm_conn, mm_meta, db_conn, db_meta, class_name, \n",
    "                               rel_map, obj_v_map)\n",
    "    \n",
    "    return obj_v_map\n"
   ]
  },
  {
   "cell_type": "markdown",
   "metadata": {},
   "source": [
    "# Execute it all"
   ]
  },
  {
   "cell_type": "code",
   "execution_count": 17,
   "metadata": {},
   "outputs": [
    {
     "name": "stdout",
     "output_type": "stream",
     "text": [
      "Removing OpenSLEX MM\n",
      "Opening OpenSLEX MM\n",
      "Reading script\n",
      "Running script\n",
      "OpenSLEX MM succesfully created\n",
      "Creating OpenSLEX MM engine\n",
      "OpenSLEX MM engine created\n",
      "Creating DB engine\n",
      "DB engine created\n",
      "Automapping DB\n",
      "Automap finished\n",
      "Obtaining MM metadata\n",
      "MM metadata obtained\n"
     ]
    }
   ],
   "source": [
    "# connect to the OpenSLEX mm\n",
    "try:\n",
    "    create_mm(openslex_file_path, openslex_script_path)\n",
    "    mm_engine = create_mm_engine(openslex_file_path)\n",
    "    db_engine = create_db_engine(dialect, username, password, host, port, database)\n",
    "    Base, db_meta = automap_db(db_engine, schema)\n",
    "    mm_meta = get_mm_meta(mm_engine)\n",
    "except Exception as e:\n",
    "    print('Something went wrong: {e}'.format(e=e))\n"
   ]
  },
  {
   "cell_type": "code",
   "execution_count": 18,
   "metadata": {},
   "outputs": [
    {
     "name": "stdout",
     "output_type": "stream",
     "text": [
      "connection opened\n",
      "transaction committed\n",
      "connection closed\n",
      "total time elapsed: 0.2579987049102783 seconds\n"
     ]
    }
   ],
   "source": [
    "# insert the source's datamodel into the OpenSLEX mm\n",
    "t1 = time.time()\n",
    "mm_conn = mm_engine.connect()\n",
    "print('connection opened')\n",
    "try:\n",
    "    class_map, attr_map, rel_map = insert_metadata(mm_conn, mm_meta, Base, db_meta, dm_name)\n",
    "except Exception as e:\n",
    "    print('Exception: {e}'.format(e=e))\n",
    "mm_conn.close()\n",
    "print('connection closed')\n",
    "t2 = time.time()\n",
    "time_diff = t2-t1\n",
    "print('total time elapsed: {time_diff} seconds'.format(time_diff=time_diff))"
   ]
  },
  {
   "cell_type": "code",
   "execution_count": 19,
   "metadata": {},
   "outputs": [
    {
     "name": "stdout",
     "output_type": "stream",
     "text": [
      "connections opened\n",
      "inserting objects for class 'patients'\n",
      "objects for class 'patients' inserted\n",
      "time elapsed: 0.2395002841949463 seconds\n",
      "inserting objects for class 'admissions'\n",
      "objects for class 'admissions' inserted\n",
      "time elapsed: 0.4485034942626953 seconds\n",
      "inserting objects for class 'microbiologyevents'\n",
      "objects for class 'microbiologyevents' inserted\n",
      "time elapsed: 3.2560007572174072 seconds\n",
      "inserting objects for class 'd_items'\n",
      "objects for class 'd_items' inserted\n",
      "time elapsed: 14.64276671409607 seconds\n",
      "inserting relations for class 'patients'\n",
      "relations for class 'patients' inserted\n",
      "time elapsed: 0.0029997825622558594 seconds\n",
      "inserting relations for class 'admissions'\n",
      "relations for class 'admissions' inserted\n",
      "time elapsed: 0.12800192832946777 seconds\n",
      "inserting relations for class 'microbiologyevents'\n",
      "relations for class 'microbiologyevents' inserted\n",
      "time elapsed: 3.1095240116119385 seconds\n",
      "inserting relations for class 'd_items'\n",
      "relations for class 'd_items' inserted\n",
      "time elapsed: 0.13500237464904785 seconds\n",
      "connections closed\n",
      "total time elapsed: 21.994798183441162 seconds\n"
     ]
    }
   ],
   "source": [
    "# insert objects into the OpenSLEX mm\n",
    "t1 = time.time()\n",
    "mm_conn = mm_engine.connect()\n",
    "db_conn = db_engine.connect()\n",
    "print('connections opened')\n",
    "try:\n",
    "#     classes = Base.classes.keys() # use this if you want to insert objects of all classes\n",
    "    classes = ['patients', 'admissions', 'microbiologyevents', 'd_items'] # use this to specify a subset of the classes\n",
    "    obj_v_map = insert_objects(mm_conn, mm_meta, db_conn, db_meta, classes, class_map, attr_map, rel_map)\n",
    "except Exception as e:\n",
    "    print('Exception: {e}'.format(e=e))\n",
    "mm_conn.close()\n",
    "db_conn.close()\n",
    "print('connections closed')\n",
    "t2 = time.time()\n",
    "time_diff = t2-t1\n",
    "print('total time elapsed: {time_diff} seconds'.format(time_diff=time_diff))"
   ]
  },
  {
   "cell_type": "markdown",
   "metadata": {},
   "source": [
    "# Test\n",
    "For all microbiology events, the patient IDs, hospital admission IDs, microbiology event IDs, item IDs and item labels are selected from the OpenSLEX metamodel and from the source database. To do this, four tables are joined: 'patients', 'admissions', 'microbiologyevents' and 'd_items'. The results are compared to test if they are equal."
   ]
  },
  {
   "cell_type": "code",
   "execution_count": 20,
   "metadata": {},
   "outputs": [],
   "source": [
    "# define mm classes\n",
    "class_table = mm_meta.tables.get('class')\n",
    "attr_table = mm_meta.tables.get('attribute_name')\n",
    "rels_table = mm_meta.tables.get('relationship').alias()\n",
    "obj_table = mm_meta.tables.get('object')\n",
    "obj_v_table = mm_meta.tables.get('object_version')\n",
    "attr_v_table = mm_meta.tables.get('attribute_value')\n",
    "rel_table = mm_meta.tables.get('relation')"
   ]
  },
  {
   "cell_type": "code",
   "execution_count": 21,
   "metadata": {},
   "outputs": [],
   "source": [
    "# define mm class aliases\n",
    "micro_obj_v = obj_v_table.alias()\n",
    "micro_obj = obj_table.alias()\n",
    "micro_class = class_table.alias()\n",
    "micro_row_id_val = attr_v_table.alias()\n",
    "micro_row_id_name = attr_table.alias()\n",
    "micro_itemid_val = attr_v_table.alias()\n",
    "micro_itemid_name = attr_table.alias()\n",
    "micro_adm_rel = rel_table.alias()\n",
    "micro_adm_rels = rels_table.alias()\n",
    "adm_obj_v = obj_v_table.alias()\n",
    "adm_id_val = attr_v_table.alias()\n",
    "adm_id_name = attr_table.alias()\n",
    "micro_pat_rel = rel_table.alias()\n",
    "micro_pat_rels = rels_table.alias()\n",
    "pat_obj_v = obj_v_table.alias()\n",
    "pat_id_val = attr_v_table.alias()\n",
    "pat_id_name = attr_table.alias()\n",
    "micro_item_rel = rel_table.alias()\n",
    "micro_item_rels = rels_table.alias()\n",
    "item_obj_v = obj_v_table.alias()\n",
    "item_id_val = attr_v_table.alias()\n",
    "item_id_name = attr_table.alias()\n",
    "item_label_val = attr_v_table.alias()\n",
    "item_label_name = attr_table.alias()"
   ]
  },
  {
   "cell_type": "code",
   "execution_count": 22,
   "metadata": {},
   "outputs": [],
   "source": [
    "# query for selecting data from mm\n",
    "mm_q = select([\n",
    "            pat_id_val.c.value, \n",
    "            adm_id_val.c.value, \n",
    "            micro_row_id_val.c.value,\n",
    "            item_id_val.c.value,\n",
    "            item_label_val.c.value,\n",
    "           ])\\\n",
    "    .select_from(micro_obj_v.join(micro_obj, micro_obj_v.c.object_id==micro_obj.c.id)\\\n",
    "                 .join(micro_class, micro_obj.c.class_id==micro_class.c.id)\\\n",
    "                 .join(micro_row_id_val, micro_obj_v.c.id==micro_row_id_val.c.object_version_id)\\\n",
    "                 .join(micro_row_id_name, micro_row_id_val.c.attribute_name_id==micro_row_id_name.c.id)\\\n",
    "                 .join(micro_itemid_val, micro_obj_v.c.id==micro_itemid_val.c.object_version_id)\\\n",
    "                 .join(micro_itemid_name, micro_itemid_val.c.attribute_name_id==micro_itemid_name.c.id)\\\n",
    "                 .join(micro_adm_rel, micro_obj_v.c.id==micro_adm_rel.c.source_object_version_id)\\\n",
    "                 .join(micro_adm_rels, micro_adm_rel.c.relationship_id==micro_adm_rels.c.id)\\\n",
    "                 .join(adm_obj_v, micro_adm_rel.c.target_object_version_id==adm_obj_v.c.id)\\\n",
    "                 .join(adm_id_val, adm_obj_v.c.id==adm_id_val.c.object_version_id)\\\n",
    "                 .join(adm_id_name, adm_id_val.c.attribute_name_id==adm_id_name.c.id)\\\n",
    "                 .join(micro_pat_rel, micro_obj_v.c.id==micro_pat_rel.c.source_object_version_id)\\\n",
    "                 .join(micro_pat_rels, micro_pat_rel.c.relationship_id==micro_pat_rels.c.id)\\\n",
    "                 .join(pat_obj_v, micro_pat_rel.c.target_object_version_id==pat_obj_v.c.id)\\\n",
    "                 .join(pat_id_val, pat_obj_v.c.id==pat_id_val.c.object_version_id)\\\n",
    "                 .join(pat_id_name, pat_id_val.c.attribute_name_id==pat_id_name.c.id)\\\n",
    "                 .join(micro_item_rel, micro_obj_v.c.id==micro_item_rel.c.source_object_version_id)\\\n",
    "                 .join(micro_item_rels, micro_item_rel.c.relationship_id==micro_item_rels.c.id)\\\n",
    "                 .join(item_obj_v, micro_item_rel.c.target_object_version_id==item_obj_v.c.id)\\\n",
    "                 .join(item_id_val, item_obj_v.c.id==item_id_val.c.object_version_id)\\\n",
    "                 .join(item_id_name, item_id_val.c.attribute_name_id==item_id_name.c.id)\\\n",
    "                 .join(item_label_val, item_obj_v.c.id==item_label_val.c.object_version_id)\\\n",
    "                 .join(item_label_name, item_label_val.c.attribute_name_id==item_label_name.c.id)\\\n",
    "                )\\\n",
    "    .where(and_(micro_class.c.name=='microbiologyevents',\n",
    "                micro_row_id_name.c.name=='row_id',\n",
    "                micro_itemid_name.c.name=='spec_itemid',\n",
    "                micro_adm_rels.c.name=='microbiologyevents_fk_hadm_id',\n",
    "                adm_id_name.c.name=='hadm_id',\n",
    "                micro_pat_rels.c.name=='microbiologyevents_fk_subject_id',\n",
    "                pat_id_name.c.name=='subject_id',\n",
    "                micro_item_rels.c.name=='microbiologyevents_fk_spec_itemid',\n",
    "                item_id_name.c.name=='itemid',\n",
    "                item_label_name.c.name=='label',\n",
    "               ))\\\n",
    "    .order_by(\n",
    "             pat_id_val.c.value, \n",
    "             adm_id_val.c.value, \n",
    "             micro_row_id_val.c.value,\n",
    "            )\n",
    "    "
   ]
  },
  {
   "cell_type": "code",
   "execution_count": 23,
   "metadata": {},
   "outputs": [],
   "source": [
    "# execute query\n",
    "mm_conn = mm_engine.connect()\n",
    "mm_res = mm_conn.execute(mm_q).fetchall()\n",
    "mm_conn.close()"
   ]
  },
  {
   "cell_type": "code",
   "execution_count": 24,
   "metadata": {},
   "outputs": [
    {
     "data": {
      "text/plain": [
       "2003"
      ]
     },
     "execution_count": 24,
     "metadata": {},
     "output_type": "execute_result"
    }
   ],
   "source": [
    "len(mm_res)"
   ]
  },
  {
   "cell_type": "code",
   "execution_count": 25,
   "metadata": {},
   "outputs": [
    {
     "data": {
      "text/plain": [
       "[('10006', '142345', '134694', '70012', 'BLOOD CULTURE'),\n",
       " ('10006', '142345', '134695', '70012', 'BLOOD CULTURE'),\n",
       " ('10006', '142345', '134696', '70012', 'BLOOD CULTURE'),\n",
       " ('10006', '142345', '134697', '70012', 'BLOOD CULTURE'),\n",
       " ('10006', '142345', '134698', '70012', 'BLOOD CULTURE'),\n",
       " ('10006', '142345', '134699', '70012', 'BLOOD CULTURE'),\n",
       " ('10006', '142345', '134700', '70012', 'BLOOD CULTURE'),\n",
       " ('10006', '142345', '134701', '70012', 'BLOOD CULTURE'),\n",
       " ('10006', '142345', '134702', '70012', 'BLOOD CULTURE'),\n",
       " ('10006', '142345', '134703', '70079', 'URINE')]"
      ]
     },
     "execution_count": 25,
     "metadata": {},
     "output_type": "execute_result"
    }
   ],
   "source": [
    "mm_res[0:10]"
   ]
  },
  {
   "cell_type": "code",
   "execution_count": null,
   "metadata": {},
   "outputs": [],
   "source": []
  },
  {
   "cell_type": "code",
   "execution_count": 26,
   "metadata": {},
   "outputs": [],
   "source": [
    "# define db tables\n",
    "pat_table = db_meta.tables.get('mimiciii.patients')\n",
    "adm_table = db_meta.tables.get('mimiciii.admissions')\n",
    "micro_table = db_meta.tables.get('mimiciii.microbiologyevents')\n",
    "item_table = db_meta.tables.get('mimiciii.d_items')"
   ]
  },
  {
   "cell_type": "code",
   "execution_count": 27,
   "metadata": {},
   "outputs": [],
   "source": [
    "# query for selecting data from original database\n",
    "db_q = select([\n",
    "    pat_table.c.subject_id,\n",
    "    adm_table.c.hadm_id,\n",
    "    micro_table.c.row_id,\n",
    "    item_table.c.itemid,\n",
    "    item_table.c.label,\n",
    "]).select_from(\n",
    "    micro_table\\\n",
    "    .join(adm_table, micro_table.c.hadm_id==adm_table.c.hadm_id)\\\n",
    "    .join(pat_table, micro_table.c.subject_id==pat_table.c.subject_id)\\\n",
    "    .join(item_table, micro_table.c.spec_itemid==item_table.c.itemid)\n",
    ").order_by(pat_table.c.subject_id,\n",
    "    adm_table.c.hadm_id,\n",
    "    micro_table.c.row_id,)"
   ]
  },
  {
   "cell_type": "code",
   "execution_count": 28,
   "metadata": {},
   "outputs": [],
   "source": [
    "# execute query\n",
    "db_conn = db_engine.connect()\n",
    "db_res = db_conn.execute(db_q).fetchall()\n",
    "db_conn.close()"
   ]
  },
  {
   "cell_type": "code",
   "execution_count": 29,
   "metadata": {},
   "outputs": [
    {
     "data": {
      "text/plain": [
       "2003"
      ]
     },
     "execution_count": 29,
     "metadata": {},
     "output_type": "execute_result"
    }
   ],
   "source": [
    "len(db_res)"
   ]
  },
  {
   "cell_type": "code",
   "execution_count": 30,
   "metadata": {},
   "outputs": [
    {
     "data": {
      "text/plain": [
       "[(10006, 142345, 134694, 70012, 'BLOOD CULTURE'),\n",
       " (10006, 142345, 134695, 70012, 'BLOOD CULTURE'),\n",
       " (10006, 142345, 134696, 70012, 'BLOOD CULTURE'),\n",
       " (10006, 142345, 134697, 70012, 'BLOOD CULTURE'),\n",
       " (10006, 142345, 134698, 70012, 'BLOOD CULTURE'),\n",
       " (10006, 142345, 134699, 70012, 'BLOOD CULTURE'),\n",
       " (10006, 142345, 134700, 70012, 'BLOOD CULTURE'),\n",
       " (10006, 142345, 134701, 70012, 'BLOOD CULTURE'),\n",
       " (10006, 142345, 134702, 70012, 'BLOOD CULTURE'),\n",
       " (10006, 142345, 134703, 70079, 'URINE')]"
      ]
     },
     "execution_count": 30,
     "metadata": {},
     "output_type": "execute_result"
    }
   ],
   "source": [
    "db_res[0:10]"
   ]
  },
  {
   "cell_type": "code",
   "execution_count": null,
   "metadata": {},
   "outputs": [],
   "source": []
  },
  {
   "cell_type": "code",
   "execution_count": 31,
   "metadata": {},
   "outputs": [
    {
     "data": {
      "text/plain": [
       "False"
      ]
     },
     "execution_count": 31,
     "metadata": {},
     "output_type": "execute_result"
    }
   ],
   "source": [
    "# Compare results\n",
    "mm_res == db_res"
   ]
  },
  {
   "cell_type": "code",
   "execution_count": 32,
   "metadata": {},
   "outputs": [],
   "source": [
    "# Results not the same because data types are not the same. Integers in source database are strings in mm. \n",
    "# First convert integers to strings and then compare the results.\n",
    "db_res_str = []\n",
    "for t in db_res:\n",
    "    db_res_str.append(tuple(str(x) for x in t))"
   ]
  },
  {
   "cell_type": "code",
   "execution_count": 33,
   "metadata": {},
   "outputs": [
    {
     "data": {
      "text/plain": [
       "True"
      ]
     },
     "execution_count": 33,
     "metadata": {},
     "output_type": "execute_result"
    }
   ],
   "source": [
    "db_res_str == mm_res"
   ]
  },
  {
   "cell_type": "code",
   "execution_count": null,
   "metadata": {},
   "outputs": [],
   "source": []
  }
 ],
 "metadata": {
  "kernelspec": {
   "display_name": "Python 3",
   "language": "python",
   "name": "python3"
  },
  "language_info": {
   "codemirror_mode": {
    "name": "ipython",
    "version": 3
   },
   "file_extension": ".py",
   "mimetype": "text/x-python",
   "name": "python",
   "nbconvert_exporter": "python",
   "pygments_lexer": "ipython3",
   "version": "3.6.4"
  }
 },
 "nbformat": 4,
 "nbformat_minor": 2
}
